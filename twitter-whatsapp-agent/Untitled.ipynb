{
 "cells": [
  {
   "cell_type": "code",
   "execution_count": 1,
   "id": "a77e2848-1574-4d2f-9ba5-905a83a17e54",
   "metadata": {
    "tags": []
   },
   "outputs": [],
   "source": [
    "%load_ext autoreload\n",
    "%autoreload 2"
   ]
  },
  {
   "cell_type": "code",
   "execution_count": 38,
   "id": "7952aa6d-c449-4061-8234-1c7c8accb5ba",
   "metadata": {},
   "outputs": [],
   "source": [
    "from tools.article import ArticleTool\n",
    "from toolbox import ToolBox"
   ]
  },
  {
   "cell_type": "code",
   "execution_count": 3,
   "id": "3648bb7c-83c5-4835-9128-7ecee40286ce",
   "metadata": {
    "tags": []
   },
   "outputs": [],
   "source": [
    "article_tool = ArticleTool()"
   ]
  },
  {
   "cell_type": "code",
   "execution_count": 4,
   "id": "013d555e-155f-4659-ba67-7adccae8a7ad",
   "metadata": {
    "tags": []
   },
   "outputs": [],
   "source": [
    "url = \"https://every.to/chain-of-thought/what-comes-after-saas\""
   ]
  },
  {
   "cell_type": "code",
   "execution_count": 36,
   "id": "2aae054e-922f-4dad-8f57-7859ab74e8c3",
   "metadata": {
    "tags": []
   },
   "outputs": [
    {
     "name": "stdout",
     "output_type": "stream",
     "text": [
      "Article: use this tool to fetch article data given an url\n",
      "input: (url: str)\n",
      "output: Article(url=str)\n"
     ]
    }
   ],
   "source": [
    "context = article_tool.prompt\n",
    "print(context)"
   ]
  },
  {
   "cell_type": "code",
   "execution_count": 48,
   "id": "6b5f2d80-953c-4112-8060-3b905d737a2a",
   "metadata": {
    "tags": []
   },
   "outputs": [
    {
     "data": {
      "text/plain": [
       "[<tools.article.ArticleTool at 0x106d9f850>]"
      ]
     },
     "execution_count": 48,
     "metadata": {},
     "output_type": "execute_result"
    }
   ],
   "source": [
    "tools = [article_tool]\n",
    "tools"
   ]
  },
  {
   "cell_type": "code",
   "execution_count": 52,
   "id": "90b9ad76-acc0-4a00-9db4-725c26b815e3",
   "metadata": {
    "tags": []
   },
   "outputs": [],
   "source": [
    "toolbox = ToolBox(tools=tools)"
   ]
  },
  {
   "cell_type": "code",
   "execution_count": 53,
   "id": "3aad434c-0bde-4601-a240-9eafe63e2809",
   "metadata": {
    "tags": []
   },
   "outputs": [
    {
     "name": "stdout",
     "output_type": "stream",
     "text": [
      "Article: use this tool to fetch article data given an url\n",
      "input: (url: str)\n",
      "output: Article(url=str)\n"
     ]
    }
   ],
   "source": [
    "print(toolbox.prompt)"
   ]
  },
  {
   "cell_type": "code",
   "execution_count": null,
   "id": "b476ea87-b397-4f77-bd3f-11f3c1b49104",
   "metadata": {},
   "outputs": [],
   "source": []
  }
 ],
 "metadata": {
  "kernelspec": {
   "display_name": "Python 3 (ipykernel)",
   "language": "python",
   "name": "python3"
  },
  "language_info": {
   "codemirror_mode": {
    "name": "ipython",
    "version": 3
   },
   "file_extension": ".py",
   "mimetype": "text/x-python",
   "name": "python",
   "nbconvert_exporter": "python",
   "pygments_lexer": "ipython3",
   "version": "3.11.4"
  }
 },
 "nbformat": 4,
 "nbformat_minor": 5
}
