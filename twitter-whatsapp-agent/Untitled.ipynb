{
 "cells": [
  {
   "cell_type": "code",
   "execution_count": 2,
   "id": "a77e2848-1574-4d2f-9ba5-905a83a17e54",
   "metadata": {
    "tags": []
   },
   "outputs": [],
   "source": [
    "from newspaper import Article"
   ]
  },
  {
   "cell_type": "code",
   "execution_count": 24,
   "id": "297147c0-4e52-463e-9a02-c012be7c5a76",
   "metadata": {
    "tags": []
   },
   "outputs": [],
   "source": [
    "url = 'https://every.to/chain-of-thought/what-comes-after-saas'\n",
    "article = Article(url)"
   ]
  },
  {
   "cell_type": "code",
   "execution_count": 25,
   "id": "3aa32171-45ca-409e-a183-38ee8b45ab35",
   "metadata": {
    "tags": []
   },
   "outputs": [],
   "source": [
    "article.download()\n",
    "article.parse()"
   ]
  },
  {
   "cell_type": "code",
   "execution_count": 26,
   "id": "43ca1527-52cb-4b64-a107-eadb8ed9b0d1",
   "metadata": {
    "tags": []
   },
   "outputs": [
    {
     "data": {
      "text/plain": [
       "[]"
      ]
     },
     "execution_count": 26,
     "metadata": {},
     "output_type": "execute_result"
    }
   ],
   "source": [
    "article.authors"
   ]
  },
  {
   "cell_type": "code",
   "execution_count": null,
   "id": "7952aa6d-c449-4061-8234-1c7c8accb5ba",
   "metadata": {},
   "outputs": [],
   "source": []
  }
 ],
 "metadata": {
  "kernelspec": {
   "display_name": "Python 3 (ipykernel)",
   "language": "python",
   "name": "python3"
  },
  "language_info": {
   "codemirror_mode": {
    "name": "ipython",
    "version": 3
   },
   "file_extension": ".py",
   "mimetype": "text/x-python",
   "name": "python",
   "nbconvert_exporter": "python",
   "pygments_lexer": "ipython3",
   "version": "3.11.4"
  }
 },
 "nbformat": 4,
 "nbformat_minor": 5
}
