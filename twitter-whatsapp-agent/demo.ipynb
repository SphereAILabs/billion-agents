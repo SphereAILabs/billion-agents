{
 "cells": [
  {
   "cell_type": "code",
   "execution_count": 30,
   "id": "d44dcb38-482c-4fa4-92ce-0ff191dd9332",
   "metadata": {
    "tags": []
   },
   "outputs": [
    {
     "name": "stdout",
     "output_type": "stream",
     "text": [
      "The autoreload extension is already loaded. To reload it, use:\n",
      "  %reload_ext autoreload\n"
     ]
    }
   ],
   "source": [
    "%load_ext autoreload\n",
    "%autoreload 2"
   ]
  },
  {
   "cell_type": "code",
   "execution_count": 33,
   "id": "8e25d603-7fd3-4e5e-8578-2fbfcf304d50",
   "metadata": {
    "tags": []
   },
   "outputs": [],
   "source": [
    "from agent import ArticleWhatsAppAgent"
   ]
  },
  {
   "cell_type": "code",
   "execution_count": 34,
   "id": "6473da0b-ebd7-4f37-a184-54eac57b6920",
   "metadata": {
    "tags": []
   },
   "outputs": [],
   "source": [
    "url = \"https://every.to/chain-of-thought/what-comes-after-saas\"\n",
    "url_2 = \"https://www.sequoiacap.com/article/ai-paradox-perspective/\""
   ]
  },
  {
   "cell_type": "code",
   "execution_count": 35,
   "id": "0954c6fe-c7ea-4566-ba28-e3692a6d65fa",
   "metadata": {
    "tags": []
   },
   "outputs": [],
   "source": [
    "agent = ArticleWhatsAppAgent(max_iterations=6) # initialize agent"
   ]
  },
  {
   "cell_type": "markdown",
   "id": "18802dbe-70bf-4d34-8591-a675f6e8974a",
   "metadata": {},
   "source": [
    "# Demos"
   ]
  },
  {
   "cell_type": "code",
   "execution_count": 36,
   "id": "f6ace998-39db-43af-83a4-37ba6333f0fd",
   "metadata": {
    "tags": []
   },
   "outputs": [
    {
     "data": {
      "text/plain": [
       "'send me 5 takeaways from https://every.to/chain-of-thought/what-comes-after-saas'"
      ]
     },
     "execution_count": 36,
     "metadata": {},
     "output_type": "execute_result"
    }
   ],
   "source": [
    "prompt = f\"send me 5 takeaways from {url}\"\n",
    "prompt"
   ]
  },
  {
   "cell_type": "code",
   "execution_count": 37,
   "id": "e1a35015-e67b-4380-8b63-6d9fd31d1f13",
   "metadata": {
    "tags": []
   },
   "outputs": [
    {
     "name": "stdout",
     "output_type": "stream",
     "text": [
      "***PLAN***\n",
      "1. [Article]: Fetch article data from \"https://every.to/chain-of-thought/what-comes-after-saas\"\n",
      "2. [OpenAI]: Ask the AI model to generate 5 takeaways from the fetched article data.\n",
      "3. [WhatsApp]: Send the 5 takeaways as a WhatsApp message to myself.\n",
      "**********\n",
      "thought: I will start by fetching the article data from the given URL.\n",
      "action: Article\n",
      "action_input: {'url': 'https://every.to/chain-of-thought/what-comes-after-saas'}\n",
      "observation: Successfully fetched article with url=https://every.to/chain-of-thought/what-comes-after-saas. You can reference it by 'var_1'\n",
      "thought: Now that I have the article data, I will ask the AI model to generate 5 takeaways from it.\n",
      "action: OpenAI\n",
      "action_input: {'article': 'var_1', 'prompt': 'What are 5 takeaways from the article?'}\n",
      "doing shit to article\n",
      "4\n",
      "observation: Takeaway 1: The current AI paradigm is often characterized by hype followed by disappointment, and founders should aim to have a more precise understanding of what AI truly is.\n",
      "\n",
      "Takeaway 2: The distinction between users and developers could be blurred with the rise of AI, allowing everyone to have the equivalent of a junior developer at their disposal and the ability to customize software.\n",
      "\n",
      "Takeaway 3: The concept of software as a reflection of one's identity could become more prevalent, with better and cheaper customization options available.\n",
      "\n",
      "Takeaway 4: The development of large language models and natural language interfaces has made AI more accessible to a wider range of users, contributing to the current popularity of AI.\n",
      "\n",
      "Takeaway 5: The article discusses the potential for new business models to emerge with the ability for anyone to modify software, leading to more diverse and bespoke software options.\n",
      "thought: I have generated 5 takeaways from the article. Now I will send them as a WhatsApp message to myself.\n",
      "action: WhatsApp\n",
      "action_input: {'message': \"Takeaway 1: The current AI paradigm is often characterized by hype followed by disappointment, and founders should aim to have a more precise understanding of what AI truly is.\\n\\nTakeaway 2: The distinction between users and developers could be blurred with the rise of AI, allowing everyone to have the equivalent of a junior developer at their disposal and the ability to customize software.\\n\\nTakeaway 3: The concept of software as a reflection of one's identity could become more prevalent, with better and cheaper customization options available.\\n\\nTakeaway 4: The development of large language models and natural language interfaces has made AI more accessible to a wider range of users, contributing to the current popularity of AI.\\n\\nTakeaway 5: The article discusses the potential for new business models to emerge with the ability for anyone to modify software, leading to more diverse and bespoke software options.\"}\n",
      "huggingface/tokenizers: The current process just got forked, after parallelism has already been used. Disabling parallelism to avoid deadlocks...\n",
      "To disable this warning, you can either:\n",
      "\t- Avoid using `tokenizers` before the fork if possible\n",
      "\t- Explicitly set the environment variable TOKENIZERS_PARALLELISM=(true | false)\n",
      "observation: Sent!\n",
      "thought: I have successfully sent the 5 takeaways as a WhatsApp message to myself.\n",
      "final_answer: Completed\n"
     ]
    }
   ],
   "source": [
    "agent.run(prompt)"
   ]
  },
  {
   "cell_type": "code",
   "execution_count": 38,
   "id": "348acdb3-2d5c-480c-a7b4-3b8b704f33da",
   "metadata": {
    "tags": []
   },
   "outputs": [
    {
     "data": {
      "text/plain": [
       "'send me article link and summary $https://every.to/chain-of-thought/what-comes-after-saas'"
      ]
     },
     "execution_count": 38,
     "metadata": {},
     "output_type": "execute_result"
    }
   ],
   "source": [
    "prompt = f\"send me article link and summary ${url}\"\n",
    "prompt"
   ]
  },
  {
   "cell_type": "code",
   "execution_count": 39,
   "id": "438f4fa9-15ec-4c94-bd07-5a3d6544da67",
   "metadata": {
    "tags": []
   },
   "outputs": [
    {
     "name": "stdout",
     "output_type": "stream",
     "text": [
      "***PLAN***\n",
      "1. [WhatsApp]: Send myself the article link. (message: \"Here is the article link: https://every.to/chain-of-thought/what-comes-after-saas\")\n",
      "2. [Article]: Fetch the article data using the provided URL. (url: \"https://every.to/chain-of-thought/what-comes-after-saas\")\n",
      "3. [OpenAI]: Use the article data and prompt to generate a summary of the article. (article: [output from step 2], prompt: \"Can you provide a summary of the article?\")\n",
      "4. [WhatsApp]: Send myself the article summary. (message: [output from step 3])\n",
      "**********\n",
      "thought: I will start by sending myself the article link using WhatsApp.\n",
      "action: WhatsApp\n",
      "action_input: {'message': 'Here is the article link: https://every.to/chain-of-thought/what-comes-after-saas'}\n",
      "huggingface/tokenizers: The current process just got forked, after parallelism has already been used. Disabling parallelism to avoid deadlocks...\n",
      "To disable this warning, you can either:\n",
      "\t- Avoid using `tokenizers` before the fork if possible\n",
      "\t- Explicitly set the environment variable TOKENIZERS_PARALLELISM=(true | false)\n",
      "observation: Sent!\n",
      "thought: Now I will fetch the article data using the provided URL.\n",
      "action: Article\n",
      "action_input: {'url': 'https://every.to/chain-of-thought/what-comes-after-saas'}\n",
      "observation: Successfully fetched article with url=https://every.to/chain-of-thought/what-comes-after-saas. You can reference it by 'var_2'\n",
      "thought: Now I will use the fetched article data and prompt to generate a summary of the article.\n",
      "action: OpenAI\n",
      "action_input: {'article': 'var_2', 'prompt': 'Can you provide a summary of the article?'}\n",
      "doing shit to article\n",
      "4\n",
      "observation: The article discusses the concept of \"malleable software\" as the next step after Software as a Service (SaaS). It highlights the limitations of the current AI paradigm and suggests that a more precise vocabulary is needed to understand the advancements in AI. The article also compares operating a SaaS app to running a hotel with unlimited occupancy, where all guests receive the same basic setup but can request customizations. It mentions the potential for new business models and blurring the line between app users and app developers. The author emphasizes the idea of software as a reflection of one's identity and the possibility of more diverse and customized software in the future.\n",
      "thought: Finally, I will send myself the article summary using WhatsApp.\n",
      "action: WhatsApp\n",
      "action_input: {'message': \"The article discusses the concept of 'malleable software' as the next step after Software as a Service (SaaS). It highlights the limitations of the current AI paradigm and suggests that a more precise vocabulary is needed to understand the advancements in AI. The article also compares operating a SaaS app to running a hotel with unlimited occupancy, where all guests receive the same basic setup but can request customizations. It mentions the potential for new business models and blurring the line between app users and app developers. The author emphasizes the idea of software as a reflection of one's identity and the possibility of more diverse and customized software in the future.\"}\n",
      "huggingface/tokenizers: The current process just got forked, after parallelism has already been used. Disabling parallelism to avoid deadlocks...\n",
      "To disable this warning, you can either:\n",
      "\t- Avoid using `tokenizers` before the fork if possible\n",
      "\t- Explicitly set the environment variable TOKENIZERS_PARALLELISM=(true | false)\n",
      "observation: Sent!\n",
      "thought: I have completed the task of sending the article link and summary.\n",
      "final_answer: Completed\n"
     ]
    }
   ],
   "source": [
    "agent.run(prompt)"
   ]
  },
  {
   "cell_type": "code",
   "execution_count": 40,
   "id": "1e6065a2-e911-4280-9af9-62abdaea869b",
   "metadata": {
    "tags": []
   },
   "outputs": [
    {
     "data": {
      "text/plain": [
       "'send me summaries of https://every.to/chain-of-thought/what-comes-after-saas and https://www.sequoiacap.com/article/ai-paradox-perspective/'"
      ]
     },
     "execution_count": 40,
     "metadata": {},
     "output_type": "execute_result"
    }
   ],
   "source": [
    "prompt = f\"send me summaries of {url} and {url_2}\"\n",
    "prompt"
   ]
  },
  {
   "cell_type": "code",
   "execution_count": 41,
   "id": "8999423f-0b97-43f2-8ceb-08e02da3b90e",
   "metadata": {
    "tags": []
   },
   "outputs": [
    {
     "name": "stdout",
     "output_type": "stream",
     "text": [
      "***PLAN***\n",
      "1. [Article]: Fetch article data for https://every.to/chain-of-thought/what-comes-after-saas\n",
      "2. [OpenAI]: Generate a summary for the article using the prompt \"What is the key takeaway from the article?\"\n",
      "3. [WhatsApp]: Send the generated summary to myself via WhatsApp.\n",
      "4. [Article]: Fetch article data for https://www.sequoiacap.com/article/ai-paradox-perspective/\n",
      "5. [OpenAI]: Generate a summary for the article using the prompt \"What is the main argument presented in the article?\"\n",
      "6. [WhatsApp]: Send the generated summary to myself via WhatsApp.\n",
      "**********\n",
      "thought: I will start by fetching the article data for https://every.to/chain-of-thought/what-comes-after-saas\n",
      "action: Article\n",
      "action_input: {'url': 'https://every.to/chain-of-thought/what-comes-after-saas'}\n",
      "observation: Successfully fetched article with url=https://every.to/chain-of-thought/what-comes-after-saas. You can reference it by 'var_3'\n",
      "thought: Now I will generate a summary for the article using the prompt 'What is the key takeaway from the article?'\n",
      "action: OpenAI\n",
      "action_input: {'article': 'var_3', 'prompt': 'What is the key takeaway from the article?'}\n",
      "doing shit to article\n",
      "4\n",
      "observation: The key takeaway from the article is that the future of software, particularly SaaS (Software as a Service), could involve more bespoke and customizable applications that are tailored to individual users. The article suggests that advancements in AI technology may blur the distinction between users and developers, allowing users to modify the underlying code of their software and create personalized experiences. This could lead to the rise of indie or micro SaaS apps and new business models. The concept is referred to as \"Malleable Software\" or \"Malleable Source\".\n",
      "thought: I will now send the generated summary to myself via WhatsApp.\n",
      "action: WhatsApp\n",
      "action_input: {'message': \"Summary of 'What Comes After SaaS':\\n\\nThe future of software, particularly SaaS, could involve more bespoke and customizable applications that are tailored to individual users. Advancements in AI technology may blur the distinction between users and developers, allowing users to modify the underlying code of their software and create personalized experiences. This could lead to the rise of indie or micro SaaS apps and new business models. The concept is referred to as 'Malleable Software' or 'Malleable Source'.\"}\n",
      "huggingface/tokenizers: The current process just got forked, after parallelism has already been used. Disabling parallelism to avoid deadlocks...\n",
      "To disable this warning, you can either:\n",
      "\t- Avoid using `tokenizers` before the fork if possible\n",
      "\t- Explicitly set the environment variable TOKENIZERS_PARALLELISM=(true | false)\n",
      "observation: Sent!\n",
      "thought: Now I will fetch the article data for https://www.sequoiacap.com/article/ai-paradox-perspective/\n",
      "action: Article\n",
      "action_input: {'url': 'https://www.sequoiacap.com/article/ai-paradox-perspective/'}\n",
      "observation: Successfully fetched article with url=https://www.sequoiacap.com/article/ai-paradox-perspective/. You can reference it by 'var_4'\n",
      "thought: Next, I will generate a summary for the article using the prompt 'What is the main argument presented in the article?'\n",
      "action: OpenAI\n",
      "action_input: {'article': 'var_4', 'prompt': 'What is the main argument presented in the article?'}\n",
      "doing shit to article\n",
      "4\n",
      "observation: The main argument presented in the article is that the current understanding of Artificial Intelligence (AI) is limited by language and the definition of AI as imitative of humans. The author argues that the concept of AI should be redefined with a more precise vocabulary, as the current paradigm of AI is like chasing a carrot on a stick while running on a treadmill. The author also discusses the blurring distinction between users and developers in the AI field and the possibility of new business models in a world where anyone can customize and modify software. Overall, the article highlights the need to break the cycle of AI hype and misunderstanding by understanding the true nature of AI.\n",
      "thought: Finally, I will send the generated summary to myself via WhatsApp.\n",
      "action: WhatsApp\n",
      "action_input: {'message': \"Summary of 'AI Paradox Perspective':\\n\\nThe main argument presented in the article is that the current understanding of Artificial Intelligence (AI) is limited by language and the definition of AI as imitative of humans. The author argues for a redefinition of AI with a more precise vocabulary, highlighting the need to break the cycle of AI hype and misunderstanding. The article also discusses the blurring distinction between users and developers in the AI field and the possibility of new business models in a world where anyone can customize and modify software.\"}\n",
      "huggingface/tokenizers: The current process just got forked, after parallelism has already been used. Disabling parallelism to avoid deadlocks...\n",
      "To disable this warning, you can either:\n",
      "\t- Avoid using `tokenizers` before the fork if possible\n",
      "\t- Explicitly set the environment variable TOKENIZERS_PARALLELISM=(true | false)\n",
      "observation: Sent!\n"
     ]
    }
   ],
   "source": [
    "agent.run(prompt)"
   ]
  },
  {
   "cell_type": "code",
   "execution_count": null,
   "id": "bcec20be-2ad2-4e5b-a651-02c44248b794",
   "metadata": {},
   "outputs": [],
   "source": []
  }
 ],
 "metadata": {
  "kernelspec": {
   "display_name": "Python 3 (ipykernel)",
   "language": "python",
   "name": "python3"
  },
  "language_info": {
   "codemirror_mode": {
    "name": "ipython",
    "version": 3
   },
   "file_extension": ".py",
   "mimetype": "text/x-python",
   "name": "python",
   "nbconvert_exporter": "python",
   "pygments_lexer": "ipython3",
   "version": "3.11.4"
  }
 },
 "nbformat": 4,
 "nbformat_minor": 5
}
