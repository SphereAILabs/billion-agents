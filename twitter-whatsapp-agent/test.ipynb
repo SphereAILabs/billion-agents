{
 "cells": [
  {
   "cell_type": "code",
   "execution_count": 74,
   "id": "17137ab5-fb3c-4611-b414-7eafc828b2b7",
   "metadata": {},
   "outputs": [
    {
     "name": "stdout",
     "output_type": "stream",
     "text": [
      "The autoreload extension is already loaded. To reload it, use:\n",
      "  %reload_ext autoreload\n"
     ]
    }
   ],
   "source": [
    "%load_ext autoreload\n",
    "%autoreload 2"
   ]
  },
  {
   "cell_type": "code",
   "execution_count": 78,
   "id": "779a3125-e064-4d98-91e7-b37511d0d0c6",
   "metadata": {
    "tags": []
   },
   "outputs": [],
   "source": [
    "import article\n",
    "from planner import TaskPlanner\n",
    "import tools"
   ]
  },
  {
   "cell_type": "code",
   "execution_count": 36,
   "id": "3987ea66-6e8a-4e74-b1b0-7882fef982fa",
   "metadata": {
    "tags": []
   },
   "outputs": [],
   "source": [
    "url = \"https://every.to/chain-of-thought/what-comes-after-saas\""
   ]
  },
  {
   "cell_type": "code",
   "execution_count": 21,
   "id": "dadcc953-8220-4465-91ce-e601061a101f",
   "metadata": {},
   "outputs": [
    {
     "name": "stdout",
     "output_type": "stream",
     "text": [
      "WTF\n"
     ]
    }
   ],
   "source": [
    "task_planner = TaskPlanner()"
   ]
  },
  {
   "cell_type": "code",
   "execution_count": 31,
   "id": "1f47d582-e12b-465a-903f-e262264ddb8c",
   "metadata": {
    "tags": []
   },
   "outputs": [],
   "source": [
    "task = f\"summarize {url}\"\n",
    "plan = task_planner.plan(task)"
   ]
  },
  {
   "cell_type": "code",
   "execution_count": 32,
   "id": "065ea9fa-8a02-4cf2-b616-1900ad199dbe",
   "metadata": {
    "tags": []
   },
   "outputs": [
    {
     "name": "stdout",
     "output_type": "stream",
     "text": [
      "1. Use the Article tool to fetch article data from the given URL: \"https://every.to/chain-of-thought/what-comes-after-saas\".\n",
      "2. Use the OpenAI tool to summarize the article by providing the fetched article data as input text and a prompt for the summary.\n"
     ]
    }
   ],
   "source": [
    "print(plan)"
   ]
  },
  {
   "cell_type": "code",
   "execution_count": 44,
   "id": "613cf4a6-465e-41ca-87b2-285816934c2b",
   "metadata": {
    "tags": []
   },
   "outputs": [
    {
     "data": {
      "text/plain": [
       "article.ArticleData"
      ]
     },
     "execution_count": 44,
     "metadata": {},
     "output_type": "execute_result"
    }
   ],
   "source": [
    "ArticleData = article.ArticleData\n",
    "ArticleData"
   ]
  },
  {
   "cell_type": "code",
   "execution_count": 49,
   "id": "f220d841-d013-4c57-bc6e-e521a222e50b",
   "metadata": {
    "tags": []
   },
   "outputs": [
    {
     "data": {
      "text/plain": [
       "{'title': str,\n",
       " 'description': str,\n",
       " 'authors': list[str],\n",
       " 'content': str,\n",
       " 'url': str,\n",
       " 'publish_date': str,\n",
       " 'keywords': list[str],\n",
       " 'summary': str}"
      ]
     },
     "execution_count": 49,
     "metadata": {},
     "output_type": "execute_result"
    }
   ],
   "source": [
    "ArticleData.__annotations__"
   ]
  },
  {
   "cell_type": "code",
   "execution_count": 52,
   "id": "404fc22b-e462-42e2-b849-2f96348107cd",
   "metadata": {
    "tags": []
   },
   "outputs": [
    {
     "data": {
      "text/plain": [
       "{'url': str, 'return': article.ArticleData}"
      ]
     },
     "execution_count": 52,
     "metadata": {},
     "output_type": "execute_result"
    }
   ],
   "source": [
    "article.get_article_data.__annotations__"
   ]
  },
  {
   "cell_type": "code",
   "execution_count": 79,
   "id": "e734d2bc-1071-46c4-8329-7431f59c2a8a",
   "metadata": {
    "tags": []
   },
   "outputs": [
    {
     "data": {
      "text/plain": [
       "{}"
      ]
     },
     "execution_count": 79,
     "metadata": {},
     "output_type": "execute_result"
    }
   ],
   "source": [
    "TaskPlanner.__annotations__"
   ]
  },
  {
   "cell_type": "code",
   "execution_count": 83,
   "id": "1f7a1b08-2dd4-452a-a8b9-1a0db6dedd41",
   "metadata": {
    "tags": []
   },
   "outputs": [
    {
     "name": "stdout",
     "output_type": "stream",
     "text": [
      "Help on package tools:\n",
      "\n",
      "NAME\n",
      "    tools\n",
      "\n",
      "PACKAGE CONTENTS\n",
      "    article\n",
      "    openai\n",
      "    tool\n",
      "    whatsapp\n",
      "\n",
      "FILE\n",
      "    (built-in)\n",
      "\n",
      "\n"
     ]
    }
   ],
   "source": [
    "help(tools)"
   ]
  },
  {
   "cell_type": "code",
   "execution_count": null,
   "id": "f1327d7a-23a8-4ea3-ae2c-f7cb541128cd",
   "metadata": {},
   "outputs": [],
   "source": []
  }
 ],
 "metadata": {
  "kernelspec": {
   "display_name": "Python 3 (ipykernel)",
   "language": "python",
   "name": "python3"
  },
  "language_info": {
   "codemirror_mode": {
    "name": "ipython",
    "version": 3
   },
   "file_extension": ".py",
   "mimetype": "text/x-python",
   "name": "python",
   "nbconvert_exporter": "python",
   "pygments_lexer": "ipython3",
   "version": "3.11.4"
  }
 },
 "nbformat": 4,
 "nbformat_minor": 5
}
