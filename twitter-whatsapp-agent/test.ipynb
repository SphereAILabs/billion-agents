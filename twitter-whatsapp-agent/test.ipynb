{
 "cells": [
  {
   "cell_type": "code",
   "execution_count": 145,
   "id": "17137ab5-fb3c-4611-b414-7eafc828b2b7",
   "metadata": {},
   "outputs": [
    {
     "name": "stdout",
     "output_type": "stream",
     "text": [
      "The autoreload extension is already loaded. To reload it, use:\n",
      "  %reload_ext autoreload\n"
     ]
    }
   ],
   "source": [
    "%load_ext autoreload\n",
    "%autoreload 2"
   ]
  },
  {
   "cell_type": "code",
   "execution_count": 197,
   "id": "779a3125-e064-4d98-91e7-b37511d0d0c6",
   "metadata": {
    "tags": []
   },
   "outputs": [],
   "source": [
    "import article\n",
    "from planner import TaskPlanner\n",
    "import tools\n",
    "from toolbox import ToolBox\n",
    "from tools.article import ArticleTool\n",
    "from tools.openai import OpenAITool\n",
    "from agent import ArticleWhatsAppAgent"
   ]
  },
  {
   "cell_type": "markdown",
   "id": "f4cafd0b-7238-4809-ae3d-7b4a478e2374",
   "metadata": {},
   "source": [
    "# Testing Tools"
   ]
  },
  {
   "cell_type": "code",
   "execution_count": 198,
   "id": "b1e5a9b9-0224-49b1-89de-3ecc7be8260a",
   "metadata": {
    "tags": []
   },
   "outputs": [],
   "source": [
    "article_tool = ArticleTool()"
   ]
  },
  {
   "cell_type": "code",
   "execution_count": 199,
   "id": "80c75426-83fa-4a7b-814d-60b27764b909",
   "metadata": {
    "tags": []
   },
   "outputs": [],
   "source": [
    "url = \"https://every.to/chain-of-thought/what-comes-after-saas\"\n",
    "article = article_tool(url)"
   ]
  },
  {
   "cell_type": "code",
   "execution_count": 200,
   "id": "17b9513f-8b23-4563-9ad7-d4fe623bf2fb",
   "metadata": {
    "tags": []
   },
   "outputs": [],
   "source": [
    "openai_tool = OpenAITool()"
   ]
  },
  {
   "cell_type": "code",
   "execution_count": 201,
   "id": "f38dcc43-3580-4b66-8420-3f13fae8f19b",
   "metadata": {
    "tags": []
   },
   "outputs": [
    {
     "data": {
      "text/plain": [
       "'This is an awesome article!!!!'"
      ]
     },
     "execution_count": 201,
     "metadata": {},
     "output_type": "execute_result"
    }
   ],
   "source": [
    "openai_tool(article, \"summarize\")"
   ]
  },
  {
   "cell_type": "code",
   "execution_count": 202,
   "id": "53c870d7-e919-4a24-9535-3ab72c5af402",
   "metadata": {
    "tags": []
   },
   "outputs": [],
   "source": [
    "tools = [article_tool]\n",
    "toolbox = ToolBox(tools=tools)"
   ]
  },
  {
   "cell_type": "code",
   "execution_count": 203,
   "id": "dadcc953-8220-4465-91ce-e601061a101f",
   "metadata": {},
   "outputs": [],
   "source": [
    "task_planner = TaskPlanner(toolbox=toolbox)"
   ]
  },
  {
   "cell_type": "code",
   "execution_count": 204,
   "id": "66253238-b8b0-4a18-80ff-4d56531d03e7",
   "metadata": {
    "tags": []
   },
   "outputs": [
    {
     "name": "stdout",
     "output_type": "stream",
     "text": [
      "Just do; no talk.\n",
      "\n",
      "You are going to construct a plan to accomplish a task by breaking it down into detailed subtasks. Each step MUST use a tool provided below. List out only the steps; all other information is irrelevant.\n",
      "\n",
      "###\n",
      "You have access to these tools:\n",
      "Article: use this tool to fetch article data given an url\n",
      "input: (url: str)\n",
      "output: ArticleData\n",
      "\n",
      "###\n",
      "use the following format:\n",
      "1. [Tool]: description of the subtask\n",
      "(...)\n"
     ]
    }
   ],
   "source": [
    "print(task_planner.system_prompt)"
   ]
  },
  {
   "cell_type": "code",
   "execution_count": 205,
   "id": "3987ea66-6e8a-4e74-b1b0-7882fef982fa",
   "metadata": {
    "tags": []
   },
   "outputs": [],
   "source": [
    "url = \"https://every.to/chain-of-thought/what-comes-after-saas\"\n",
    "# url = \"https://medium.com/mlearning-ai/object-detection-explained-yolo-v1-fb4bcd3d87a1\""
   ]
  },
  {
   "cell_type": "code",
   "execution_count": 209,
   "id": "f1327d7a-23a8-4ea3-ae2c-f7cb541128cd",
   "metadata": {},
   "outputs": [],
   "source": [
    "agent = ArticleWhatsAppAgent(max_iterations=3)"
   ]
  },
  {
   "cell_type": "code",
   "execution_count": 210,
   "id": "92950bbd-9361-46d7-bde3-8feea977fb76",
   "metadata": {
    "tags": []
   },
   "outputs": [
    {
     "name": "stdout",
     "output_type": "stream",
     "text": [
      "You are an autonomous agent that can complete tasks by following a series of steps and using available tools. You will be provided with a tentative plan outlining steps that may assist you.\n",
      "\n",
      "###\n",
      "You have access to these tools:\n",
      "Article: use this tool to fetch article data given an url\n",
      "input: (url: str)\n",
      "output: ArticleData\n",
      "\n",
      "OpenAI: use this tool to access a powerful AI model that can perform natural language tasks exceptionally well given article data and a prompt\n",
      "input: (article: ArticleData, prompt: str)\n",
      "output: str\n",
      "###\n",
      "Use the following format:\n",
      "Task: the task you must complete\n",
      "Plan: a tentative plan with steps that may assist you\n",
      "\n",
      "{\n",
      "\"thought\": str # your reasoning about what to do\n",
      "\"action\":  str # the tool you are going to use; it must be one of the tools outlined above\n",
      "\"action_input\":  {\"arg name\": arg} # input to the action\n",
      "}\n",
      "{\"observation\": str # result of action}\n",
      "... (this thought/action/action_input/observation can repeat N times)\n",
      "{\n",
      "\"thought\":  str #I have completed the task\n",
      "\"final_anwser\":  str #Completed\n",
      "}\n",
      "\n",
      "The output must be in the markdown JSON format as described above. It will be checked by an output parser!\n",
      "\n"
     ]
    }
   ],
   "source": [
    "print(agent.system_prompt)"
   ]
  },
  {
   "cell_type": "code",
   "execution_count": 213,
   "id": "5d319478-90ba-4a4e-a163-6663da1f9075",
   "metadata": {
    "tags": []
   },
   "outputs": [
    {
     "name": "stdout",
     "output_type": "stream",
     "text": [
      "Task: 'summarize article at https://every.to/chain-of-thought/what-comes-after-saas'\n",
      "Plan: 1. [Article]: Fetch the article data from the URL 'https://every.to/chain-of-thought/what-comes-after-saas'\n",
      "2. [OpenAI]: Use the fetched article data and provide a prompt to generate a summary of the article.\n",
      "---\n",
      "{'thought': \"I will use the 'Article' tool to fetch the article data from the given URL.\", 'action': 'Article', 'action_input': {'url': 'https://every.to/chain-of-thought/what-comes-after-saas'}}\n",
      "{'url': 'https://every.to/chain-of-thought/what-comes-after-saas'}\n",
      "{'thought': \"Now that I have the article data, I can use the 'OpenAI' tool to generate a summary by providing the article data and a prompt.\", 'action': 'OpenAI', 'action_input': {'article': 'article_1', 'prompt': 'Summarize the article.'}}\n",
      "{'article': 'article_1', 'prompt': 'Summarize the article.'}\n",
      "{'thought': \"It seems that the 'OpenAI' tool has generated a summary of the article. Let me check the observation to confirm.\", 'observation': 'This is an awesome article!!!!'}\n",
      "{'article_1': {'title': 'What Comes After SaaS?', 'description': 'Bespoke apps for everyone—customized by AI', 'authors': [], 'content': \"Brought to you by Designing Your Next Career Step Embark on a transformative 2-week Designing Your Next Career Step Course led by Simone Stolzoff, a leading figure from IDEO and author of 'The Good Enough Job'. You’re not just planning a career move; you’re curating it for optimal impact. Design your career, and create your future. Join our upcoming cohort, Aug 8-17, 2023. Enroll Today\\n\\nOperating a SaaS app is like running a one-room hotel that has unlimited occupancy. It’s as if you’ve figured out how to rent the same hotel room to many guests at a time through some weird tricks of quantum superposition. It is the greatest business in the world.\\n\\nCustomers pay for your hotel room by the month. Each one gets the same basic setup: bed, desk, and Wi-Fi that never works when you need it. When you make changes to the core room, all guests get the new version. But they can also request customizations personal to them, like a wake-up call—5 am for the gym rats, 1 pm for the barflies. Guests tend to stay for months or years at a time, paying for the same room as everyone else.\\n\\nIt is an absolute license to print money.\\n\\nQuantum hotel rooms are not all roses and free cash flows though. There are two crucial things to know about being the owner/proprietor of a business like this. The first is that transitioning from a single-user room to infinite occupancy takes effort. Your quantum superposition technology is a little complex to build. The second is that the longer you’re in business the more of your time and money you’re going to spend enabling “personalizations” for each guest. In the end, each guest customizes your hotel room so much that it looks like their own home.\\n\\nThis is very expensive and frustrating to deal with, but you console yourself by wiping your tears with stacks of thousand-dollar bills.\\n\\nWhat is true for quantum hotel rooms, is also true for SaaS apps: Everyone gets the same basic app. You can host infinitely many users in parallel. People tend to stay for months or years at a time.\\n\\nBut making the app available for many users at once requires a lot of up-front effort. You need to build login systems, a database architecture and code that accounts for multiple users, you need to deal with keeping user data secure, and you need to build lots of settings screens so that customers can configure the product. The more time goes on, the more money and effort you’re going to expend building customizations for users, instead of building core product improvements.\\n\\nThis is the way of the world. It makes SaaS harder for solo developers to build products, and it means that the larger you get the less time you can spend on fundamental innovation.\\n\\nThere are a few converging trends in software that I think might significantly shift this dynamic, though:\\n\\nFirst, web-based development environments that allow you to write, run and deploy code from your browser, like Replit and Val.town, are becoming powerful.\\n\\nSecond, these tools make it easy to duplicate, collaborate on, and remix existing apps to fit your own needs.\\n\\nThird, AI makes it easy for users to change any app to meet their needs even if they don’t know how to code.\\n\\nRather than having the same users on one app, you can just spin up a new version of the app on a new server for a new user at the touch of a button. Then, instead of incrementally building customization options for your users you can allow them to modify the app however they see fit—using AI. They can do this in a way that will never affect other users, and that keeps their data secure.\\n\\nSuddenly, instead of building a single-room quantum hotel, you’re building a suburban development. All of the houses on the block are in the same style, and you can build a new one for a new renter at the touch of a button. When renters move in, they can customize the house themselves without requiring any of your time or money—and without affecting any of the other houses.\\n\\nThis vision of software turns traditional SaaS into something far more bespoke, customizable, and remixable than the current generation of software allows for. The computer science researcher, Geoffrey Litt, who I interviewed here, calls this Malleable Software. I’ve been calling it Malleable Source. Malleable source means any app that allows you to modify its underlying code with AI. These apps can be open-source or closed.\\n\\nIt’s clear that this is a new paradigm on the horizon. I know because I stumbled into it.\\n\\nReimagine your career with Simone Stolzoff's 2-week Designing Your Next Career Step Course. You're not just making a job switch, you're making decisions for maximal effectiveness. Utilize Design Thinking's transformative power to sift through career prospects, pinpoint your individual goals, and plot a path toward achieving them. Turn aspirations into an empowering game plan for your future amidst uncertainty. Unlock your purpose with this course and launch into a sure-headed future brimming with a clear strategy. Engage with like-minded professionals, fostering a supportive community extending post-course. Craft your career, and shape your future. Be part of the next cohort starting Aug 8-17, 2023. Sign up today! Enroll Today\\n\\nMy experience with malleable source\\n\\nI built a little app recently to help me map my mind. It shoots me a series of texts every few hours that asks me questions about what’s going on: thoughts, feelings, emotions. It also sends a follow-up with a big question I’m currently wrestling with: “What’s your big goal?” When I get these texts, I dash off a few quick responses without thinking about it too much. I want to get as close to the snap answers that come to mind, and then move on with my day.\\n\\nThe cool thing about the app is that it then uses AI to generate a summary of what’s on my mind. It helps me see, day to day, what I’m thinking about and feeling. It also tries to condense a definitive answer to big questions I’m wrestling with—taking into account all of the different ways I’ve answered it—and provides observations about patterns it finds in my answers.\\n\\nIt’s been quite helpful for me.\\n\\nI was chatting with my friend, Every writer, coach, and fellow psychology nerd Casey Rosengren about the app recently and he asked if he could try it. I tensed up a bit at the amount of work required.\\n\\nSee, it’s currently very easy to build something like this for one person. But making it available for multiple people is a harder problem. In order to do this I’d have to implement logins, make the code multiplayer, build an interface to let him customize questions, and make sure my data doesn’t get mixed in with his. Especially for an app like this, where you’re sharing private thoughts, it’s just a bit of a hairball.\\n\\nBut then I had a little brainwave. I had built the app on Replit—so the problem was already solved.\\n\\nReplit is an all-in-one browser-based development and deployment environment. It allows you to code an app, and press one button to host it live on the internet.\\n\\nThe interesting thing about Replit is that it allows you to easily make new copies of your app. All you have to do is hit “Fork” and it will duplicate your codebase and environment. Then you press “Run” and the new copy is live on a new URL. It’s pretty magical.\\n\\nI realized, if I wanted to let Casey use this app, all I had to do was hit “Fork.” Then I just replaced his phone number with mine in the code, and pressed “Run.” Suddenly, he was getting texts from the mind-mapping bot, too.\\n\\nBest of all, he can make his own modifications to the app. He can head into the code and make any edits he wants. If he prefers to be asked different questions, it’s a few keystrokes away. If he’d like to see the AI summaries of his answers, it’s just a few more lines of code. This is all made easier by the fact that he doesn’t have to write any of the code himself. He can just use ChatGPT (or Replit’s built-in AI tool) and ask it to make modifications.\\n\\nWe’re both using the same basic piece of software. But he can customize his version however he wants. His data is in his own database in his own cloud environment. And all it required from me was to press “Fork.”\\n\\nImplications for the future of software\\n\\nI think something like this might be a new future for a certain kind of software. It’s enabled by AI and vertically integrated, browser-based developer environments like Replit. It probably doesn’t totally replace SaaS but it does open up new business models and opportunities.\\n\\nIt will make it easier to build small SaaS apps that keep data secure\\n\\nIt blurs the distinction between developer and user\\n\\nIt makes bespoke software easier to build, therefore more of a reflection of your personality—rather than a mass-produced good\\n\\nLet’s go through these one by one.\\n\\nIt’s much easier to build multi-user apps that keep data secure\\n\\nEach app that gets built in this style is used by one person and lives in its own environment. This makes dealing with user accounts and logins simpler. It also makes data security issues less relevant—each user has their own database that’s tied to the new environment, and no data gets mixed.\\n\\nFor really early projects, like the one I mentioned above, this saves a lot of time in terms of speed to market. You can get going with having multiple users of your app without having to build a lot of traditional infrastructure. That’s a big deal.\\n\\nIt could mean the rise of more of the indie or micro SaaS apps—that are built by small teams without significant funding—that have become popular in the latest AI wave—like PhotoAI by Pieter Levels. Or it could mean more businesses and individuals choose to build their own software rather than buy from a vendor.\\n\\nThe distinction between users and developers is blurred\\n\\nRight now, there’s a hard line between people who use apps and people who build them. AI blurs this distinction, as the CEO of Replit, Amjad Massad, noted in a recent talk. The software world could change drastically once everyone has the equivalent of a junior developer at their disposal and a malleable source app they can customize.\\n\\nMost software in the world today is the equivalent of a Coke: it’s mass-produced, and everyone gets the same thing. The software of tomorrow might be more diverse, creative, and bespoke than that. Like fashion or food, your chosen software could become a reflection of your who you are rather than a default choice everyone is required to make.\\n\\nSoftware as a reflection of who you are already happens to some degree—techies use Macbooks with VS Code, and finance bros use Windows loaded with Excel. But better, cheaper customizations will accelerate it.\\n\\nNew business models are possible\\n\\nIn a world where anyone can fork a piece of software and make their own modifications to it, new business models might become popular.\\n\\nIt might look a lot more like the world of games where modding and customizations are quite common, and there are whole economies devoted to making and selling mods of popular games. In a world like this, rather than building a new app from scratch, individual developers or small teams might choose to start out with an already-existing app, fork it, and mod it for a niche to resell it.\\n\\nPerhaps, whoever made the original version of the software could collect a cut of the revenue generated by any modded versions. Or, perhaps, they’d charge a services fee for use of the AI needed to customize the software—in the way SaaS companies charge large enterprises for custom integrations today.\\n\\nThere are significant challenges inherent in this model as well.\\n\\nChallenges of malleable software\\n\\nAI will break\\n\\nIf you’re shipping a piece of software that doesn’t give users access to the code—but does give them the ability to modify the underlying code with AI, your AI better be great at coding. GPT-4 is close to this level for some coding tasks—but it’s still a dicey proposition.\\n\\nIt’s going to be a serious challenge to build an AI that can modify apps without breaking them. It will also be critical for these AIs to impose sensible limits on what users can do (for example, refusing to rebrand your SaaS app with a swastika would be a sensible limit.) Given how finicky it can be to adequately steer AIs, it might take some time to address corner cases. But it will be extremely valuable when that challenge is solved.\\n\\nIn the meantime, I think the best use cases for malleable source projects are ones where the code is viewable by the user—so if the AI breaks the app, the user can debug it.\\n\\nIt’s hard to ship updates when everyone has their own version of the code\\n\\nOne of the benefits of SaaS is that if you ship an update to the app, it automatically gets shipped to everyone. This is not as easy to do when you have many versions of your app, customized by AIs, running in their own environments.\\n\\nIf you ship an update for your app, it’s unclear how that update would get propagated to users who have made their own modifications—especially if those modifications conflict with your updates. This is a problem faced by the enterprise software world all the time, where large organizations make customizations to software that they run on their own cloud infrastructure—so it’s solvable. It’s just complicated.\\n\\nToday, malleable software has to be open source\\n\\nOne of the big questions for companies building this type of software is whether to make it available as open source or not. Closed source is easier to monetize because you can control who makes copies and how those copies are used. But if you want to try something like this today, it has to be open source.\\n\\nThe platforms I mentioned at the top of the piece, Replit and Val.Town, that enable this kind of functionality are built as developer environments—so any time you duplicate a project, you get automatic access to its code. This is the way things are going to stay for the foreseeable future—at least until AI is good enough to make code changes without oversight.\\n\\nThis will limit the kind of founders and developers who attempt to build under this paradigm, for now.\\n\\nTry it yourself\\n\\nOkay, I’ve spent the 2,000 words waxing poetic about this malleable software thing. Now it’s time for me to put my money where my mouth is. I want you to try it out for yourself.\\n\\nFor this article, I used ChatGPT to build a simple little app on Replit as a demo. It’s a web server coded in Python that hosts a web page with a special message. You can go see my version live on the internet here:\\n\\nNow it's your turn. I built this on Replit, and so if you want to run it yourself. The steps are pretty simple. Click here and press Run:Replit will create an entirely new version of the app, run it, and host it on the public internet specifically for you.\\n\\nWant to make changes? Just press “Fork”. You’ll be able to get access to the app, modify any piece of it, and host it on the public internet yourself just by pressing the big green “Play” button at the top of the interface.\\n\\nTo take this back to my metaphor at the top, doing this is like setting up a suburban development. I've built a model house, and now anyone can set up their own copy on my block. Best of all, you can do whatever you want with it! Your changes won't affect mine, but you can build on top of my progress with very little effort.\\n\\nI can’t tell you how big of a deal this is. Previously, allowing someone to run an app and hosted it on the public internet was a hundred-step process that was completely inaccessible to non-technical users. Today, all you have to do is click one button.\\n\\nYou can make changes by asking ChatGPT for help—even if you're not a developer. The opportunities for customization are endless.\\n\\nIf I wanted to monetize this, I could put the link to my Replit behind a paywall. Or only share it if you take a course with me—and this is exactly what I do with my chatbot course.\\n\\nThis ability to easily duplicate, remix, and run apps with AI is going to change everything about how software works over the next 10 years.\\n\\nIf that doesn’t get you excited about the future, I don’t know what will.\", 'url': 'https://every.to/chain-of-thought/what-comes-after-saas', 'publish_date': '2023-07-21 00:00:00', 'keywords': ['run', 'saas', 'youre', 'code', 'ai', 'software', 'app', 'build', 'comes', 'users', 'malleable'], 'summary': 'Enroll TodayOperating a SaaS app is like running a one-room hotel that has unlimited occupancy.\\nWhat is true for quantum hotel rooms, is also true for SaaS apps: Everyone gets the same basic app.\\nThis vision of software turns traditional SaaS into something far more bespoke, customizable, and remixable than the current generation of software allows for.\\nThe computer science researcher, Geoffrey Litt, who I interviewed here, calls this Malleable Software.\\nTry it yourselfOkay, I’ve spent the 2,000 words waxing poetic about this malleable software thing.'}}\n"
     ]
    }
   ],
   "source": [
    "result = agent.run(f\"summarize article at {url}\")"
   ]
  },
  {
   "cell_type": "code",
   "execution_count": 177,
   "id": "ad148986-b036-489d-948f-d6ed0e564e58",
   "metadata": {},
   "outputs": [],
   "source": [
    "result"
   ]
  },
  {
   "cell_type": "code",
   "execution_count": null,
   "id": "25eb5ac9-0006-4ebe-a147-35f89d9800d6",
   "metadata": {},
   "outputs": [],
   "source": []
  },
  {
   "cell_type": "code",
   "execution_count": 157,
   "id": "7bedb948-d6bf-4417-97ca-d97191058a72",
   "metadata": {
    "tags": []
   },
   "outputs": [
    {
     "data": {
      "text/plain": [
       "True"
      ]
     },
     "execution_count": 157,
     "metadata": {},
     "output_type": "execute_result"
    }
   ],
   "source": [
    "agent.toolbox.contains_tool(result[\"action\"])"
   ]
  },
  {
   "cell_type": "code",
   "execution_count": null,
   "id": "34fdf50f-a00b-4a1d-8263-d107be07c74b",
   "metadata": {},
   "outputs": [],
   "source": []
  }
 ],
 "metadata": {
  "kernelspec": {
   "display_name": "Python 3 (ipykernel)",
   "language": "python",
   "name": "python3"
  },
  "language_info": {
   "codemirror_mode": {
    "name": "ipython",
    "version": 3
   },
   "file_extension": ".py",
   "mimetype": "text/x-python",
   "name": "python",
   "nbconvert_exporter": "python",
   "pygments_lexer": "ipython3",
   "version": "3.11.4"
  }
 },
 "nbformat": 4,
 "nbformat_minor": 5
}
