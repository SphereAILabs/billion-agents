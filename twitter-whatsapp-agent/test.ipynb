{
 "cells": [
  {
   "cell_type": "code",
   "execution_count": 38,
   "id": "17137ab5-fb3c-4611-b414-7eafc828b2b7",
   "metadata": {},
   "outputs": [
    {
     "name": "stdout",
     "output_type": "stream",
     "text": [
      "The autoreload extension is already loaded. To reload it, use:\n",
      "  %reload_ext autoreload\n"
     ]
    }
   ],
   "source": [
    "%load_ext autoreload\n",
    "%autoreload 2"
   ]
  },
  {
   "cell_type": "code",
   "execution_count": 62,
   "id": "779a3125-e064-4d98-91e7-b37511d0d0c6",
   "metadata": {
    "tags": []
   },
   "outputs": [],
   "source": [
    "from planner import TaskPlanner\n",
    "import tools\n",
    "from toolbox import ToolBox\n",
    "from tools.article import ArticleTool\n",
    "from tools.openai import OpenAITool\n",
    "from agent import ArticleWhatsAppAgent"
   ]
  },
  {
   "cell_type": "markdown",
   "id": "f4cafd0b-7238-4809-ae3d-7b4a478e2374",
   "metadata": {},
   "source": [
    "# Testing Tools"
   ]
  },
  {
   "cell_type": "code",
   "execution_count": 63,
   "id": "b1e5a9b9-0224-49b1-89de-3ecc7be8260a",
   "metadata": {
    "tags": []
   },
   "outputs": [],
   "source": [
    "article_tool = ArticleTool()"
   ]
  },
  {
   "cell_type": "code",
   "execution_count": 64,
   "id": "80c75426-83fa-4a7b-814d-60b27764b909",
   "metadata": {
    "tags": []
   },
   "outputs": [],
   "source": [
    "url = \"https://every.to/chain-of-thought/what-comes-after-saas\"\n",
    "# url = \"https://medium.com/the-mission/the-greatest-sales-deck-ive-ever-seen-4f4ef3391ba0\"\n",
    "article = article_tool(url)"
   ]
  },
  {
   "cell_type": "code",
   "execution_count": 65,
   "id": "17b9513f-8b23-4563-9ad7-d4fe623bf2fb",
   "metadata": {
    "tags": []
   },
   "outputs": [],
   "source": [
    "openai_tool = OpenAITool()"
   ]
  },
  {
   "cell_type": "code",
   "execution_count": 61,
   "id": "f38dcc43-3580-4b66-8420-3f13fae8f19b",
   "metadata": {
    "tags": []
   },
   "outputs": [
    {
     "name": "stdout",
     "output_type": "stream",
     "text": [
      "doing shit to article\n"
     ]
    },
    {
     "name": "stderr",
     "output_type": "stream",
     "text": [
      "Number of requested results 20 is greater than number of elements in index 9, updating n_results = 9\n"
     ]
    },
    {
     "name": "stdout",
     "output_type": "stream",
     "text": [
      "4\n"
     ]
    },
    {
     "data": {
      "text/plain": [
       "'One key insight from the article is that the future of software could be more diverse, creative, and bespoke, with users able to customize and modify the underlying code of apps using AI. This concept, referred to as Malleable Software, has the potential to transform traditional Software as a Service (SaaS) into a more personalized and customizable experience for users.'"
      ]
     },
     "execution_count": 61,
     "metadata": {},
     "output_type": "execute_result"
    }
   ],
   "source": [
    "openai_tool(article, \"What is one key insight?\")"
   ]
  },
  {
   "cell_type": "code",
   "execution_count": 66,
   "id": "53c870d7-e919-4a24-9535-3ab72c5af402",
   "metadata": {
    "tags": []
   },
   "outputs": [],
   "source": [
    "tools = [article_tool, openai_tool]\n",
    "toolbox = ToolBox(tools=tools)"
   ]
  },
  {
   "cell_type": "code",
   "execution_count": 67,
   "id": "dadcc953-8220-4465-91ce-e601061a101f",
   "metadata": {},
   "outputs": [],
   "source": [
    "task_planner = TaskPlanner(toolbox=toolbox)"
   ]
  },
  {
   "cell_type": "code",
   "execution_count": 68,
   "id": "66253238-b8b0-4a18-80ff-4d56531d03e7",
   "metadata": {
    "tags": []
   },
   "outputs": [
    {
     "name": "stdout",
     "output_type": "stream",
     "text": [
      "Just do; no talk.\n",
      "\n",
      "You are going to construct a plan to accomplish a task by breaking it down into detailed subtasks. Each step MUST use a tool provided below. List out only the steps; all other information is irrelevant.\n",
      "\n",
      "###\n",
      "You have access to these tools:\n",
      "Article: use this tool to fetch article data given an url\n",
      "input: (url: str)\n",
      "output: ArticleData\n",
      "\n",
      "OpenAI: Use this tool to access a powerful AI model that can perform natural language tasks exceptionally well given article data and a prompt. The prompt should be formatted as a question.\n",
      "input: (article: ArticleData, prompt: str)\n",
      "output: str\n",
      "\n",
      "###\n",
      "use the following format:\n",
      "1. [Tool]: description of the subtask\n",
      "(...)\n"
     ]
    }
   ],
   "source": [
    "print(task_planner.system_prompt)"
   ]
  },
  {
   "cell_type": "code",
   "execution_count": 70,
   "id": "620ac3a4-ece9-48f8-8853-5d80408a5194",
   "metadata": {
    "tags": []
   },
   "outputs": [
    {
     "data": {
      "text/plain": [
       "'1. [Article]: Fetch the article data using the provided URL.\\n2. [OpenAI]: Use the article data and prompt the AI model with the question \"Can you please summarize the article?\"\\n3. [OpenAI]: Retrieve the summarized output from the AI model.'"
      ]
     },
     "execution_count": 70,
     "metadata": {},
     "output_type": "execute_result"
    }
   ],
   "source": [
    "task_planner.plan(\"Summarize this article https://every.to/chain-of-thought/what-comes-after-saas\")"
   ]
  },
  {
   "cell_type": "code",
   "execution_count": 71,
   "id": "3987ea66-6e8a-4e74-b1b0-7882fef982fa",
   "metadata": {
    "tags": []
   },
   "outputs": [],
   "source": [
    "url = \"https://every.to/chain-of-thought/what-comes-after-saas\"\n",
    "# url = \"https://medium.com/mlearning-ai/object-detection-explained-yolo-v1-fb4bcd3d87a1\""
   ]
  },
  {
   "cell_type": "code",
   "execution_count": 73,
   "id": "f1327d7a-23a8-4ea3-ae2c-f7cb541128cd",
   "metadata": {},
   "outputs": [],
   "source": [
    "agent = ArticleWhatsAppAgent(max_iterations=3)"
   ]
  },
  {
   "cell_type": "code",
   "execution_count": 74,
   "id": "92950bbd-9361-46d7-bde3-8feea977fb76",
   "metadata": {
    "tags": []
   },
   "outputs": [
    {
     "name": "stdout",
     "output_type": "stream",
     "text": [
      "You are an autonomous agent that can complete tasks by following a series of steps and using available tools. You will be provided with a tentative plan outlining steps that may assist you.\n",
      "\n",
      "###\n",
      "You have access to these tools:\n",
      "Article: use this tool to fetch article data given an url\n",
      "input: (url: str)\n",
      "output: ArticleData\n",
      "\n",
      "OpenAI: Use this tool to access a powerful AI model that can perform natural language tasks exceptionally well given article data and a prompt. The prompt should be formatted as a question.\n",
      "input: (article: ArticleData, prompt: str)\n",
      "output: str\n",
      "###\n",
      "Use the following format:\n",
      "Task: the task you must complete\n",
      "Plan: a tentative plan with steps that may assist you\n",
      "\n",
      "{\n",
      "\"thought\": str # your reasoning about what to do\n",
      "\"action\":  str # the tool you are going to use; it must be one of the tools outlined above\n",
      "\"action_input\":  {\"arg name\": arg} # input to the action\n",
      "}\n",
      "{\"observation\": str # result of action}\n",
      "... (this thought/action/action_input/observation can repeat N times)\n",
      "{\n",
      "\"thought\":  str #I have completed the task\n",
      "\"final_anwser\":  str #Completed\n",
      "}\n",
      "\n",
      "The output must be in the markdown JSON format as described above. It will be checked by an output parser!\n",
      "\n"
     ]
    }
   ],
   "source": [
    "print(agent.system_prompt)"
   ]
  },
  {
   "cell_type": "code",
   "execution_count": 75,
   "id": "5d319478-90ba-4a4e-a163-6663da1f9075",
   "metadata": {
    "tags": []
   },
   "outputs": [
    {
     "name": "stdout",
     "output_type": "stream",
     "text": [
      "Task: 'summarize article at https://every.to/chain-of-thought/what-comes-after-saas'\n",
      "Plan: 1. [Article]: Fetch article data using the provided URL.\n",
      "2. [OpenAI]: Use the article data and prompt the AI model with the question \"Can you summarize the article at the given URL?\"\n",
      "3. [OpenAI]: Retrieve the summarized text from the AI model's output.\n",
      "---\n",
      "{'thought': 'I will start by fetching the article data using the provided URL.', 'action': 'Article', 'action_input': {'url': 'https://every.to/chain-of-thought/what-comes-after-saas'}}\n",
      "Successfully fetched article with url=https://every.to/chain-of-thought/what-comes-after-saas. You can reference it by 'var_1'\n",
      "{'thought': \"Now that I have the article data, I will use the OpenAI tool to summarize the article by prompting it with the question 'Can you summarize the article at the given URL?'\", 'action': 'OpenAI', 'action_input': {'article': 'var_1', 'prompt': 'Can you summarize the article at the given URL?'}}\n",
      "doing shit to article\n"
     ]
    },
    {
     "name": "stderr",
     "output_type": "stream",
     "text": [
      "Number of requested results 20 is greater than number of elements in index 9, updating n_results = 9\n"
     ]
    },
    {
     "name": "stdout",
     "output_type": "stream",
     "text": [
      "4\n",
      "The article discusses the concept of \"malleable software\" and its potential impact on the future of software development. The author likens operating a SaaS app to running a one-room hotel with unlimited occupancy, where customers pay for the same basic setup but can request customizations. However, the article suggests that the future of software lies in apps that are more diverse, creative, and bespoke, allowing users to customize and personalize their software experience.\n",
      "\n",
      "The article explores the idea that AI could blur the distinction between app users and developers, enabling more people to customize and modify their software. It also discusses the possibility of new business models emerging, where anyone can fork a piece of software and make their own modifications to it. The author emphasizes the ease of duplicating, remixing, and running apps with AI, and how this ability is expected to change the software industry in the next decade.\n",
      "\n",
      "One challenge highlighted in the article is the difficulty of propagating updates to customized versions of apps. It mentions that malleable software currently needs to be open source to allow for modifications, but this may limit the kinds of founders and developers who attempt to build under this paradigm.\n",
      "\n",
      "The article concludes by encouraging readers to try out malleable software for themselves and provides a link to a live demonstration of a web server app built using ChatGPT on the Replit platform.\n",
      "\n",
      "Overall, the article explores the potential of malleable software to revolutionize the software industry by offering users more customization options and opening up new possibilities for software development and business models.\n",
      "{'thought': 'The OpenAI tool has successfully summarized the article. I will retrieve the summarized text from the output.', 'action': 'Retrieve summarized text', 'action_input': {'article_summary': \"The article discusses the concept of 'malleable software' and its potential impact on the future of software development. The author likens operating a SaaS app to running a one-room hotel with unlimited occupancy, where customers pay for the same basic setup but can request customizations. However, the article suggests that the future of software lies in apps that are more diverse, creative, and bespoke, allowing users to customize and personalize their software experience.\\n\\nThe article explores the idea that AI could blur the distinction between app users and developers, enabling more people to customize and modify their software. It also discusses the possibility of new business models emerging, where anyone can fork a piece of software and make their own modifications to it. The author emphasizes the ease of duplicating, remixing, and running apps with AI, and how this ability is expected to change the software industry in the next decade.\\n\\nOne challenge highlighted in the article is the difficulty of propagating updates to customized versions of apps. It mentions that malleable software currently needs to be open source to allow for modifications, but this may limit the kinds of founders and developers who attempt to build under this paradigm.\\n\\nThe article concludes by encouraging readers to try out malleable software for themselves and provides a link to a live demonstration of a web server app built using ChatGPT on the Replit platform.\\n\\nOverall, the article explores the potential of malleable software to revolutionize the software industry by offering users more customization options and opening up new possibilities for software development and business models.\"}}\n"
     ]
    },
    {
     "ename": "RuntimeError",
     "evalue": "Retrieve summarized text is not a valid tool",
     "output_type": "error",
     "traceback": [
      "\u001b[0;31m---------------------------------------------------------------------------\u001b[0m",
      "\u001b[0;31mRuntimeError\u001b[0m                              Traceback (most recent call last)",
      "Cell \u001b[0;32mIn[75], line 1\u001b[0m\n\u001b[0;32m----> 1\u001b[0m result \u001b[38;5;241m=\u001b[39m agent\u001b[38;5;241m.\u001b[39mrun(\u001b[38;5;124mf\u001b[39m\u001b[38;5;124m\"\u001b[39m\u001b[38;5;124msummarize article at \u001b[39m\u001b[38;5;132;01m{\u001b[39;00murl\u001b[38;5;132;01m}\u001b[39;00m\u001b[38;5;124m\"\u001b[39m)\n",
      "File \u001b[0;32m~/Desktop/applied-ai/billion-agents/twitter-whatsapp-agent/agent.py:114\u001b[0m, in \u001b[0;36mArticleWhatsAppAgent.run\u001b[0;34m(self, task)\u001b[0m\n\u001b[1;32m    111\u001b[0m valid_tool \u001b[38;5;241m=\u001b[39m \u001b[38;5;28mself\u001b[39m\u001b[38;5;241m.\u001b[39mtoolbox\u001b[38;5;241m.\u001b[39mcontains_tool(action)\n\u001b[1;32m    113\u001b[0m \u001b[38;5;28;01mif\u001b[39;00m \u001b[38;5;129;01mnot\u001b[39;00m valid_tool:\n\u001b[0;32m--> 114\u001b[0m     \u001b[38;5;28;01mraise\u001b[39;00m \u001b[38;5;167;01mRuntimeError\u001b[39;00m(\u001b[38;5;124mf\u001b[39m\u001b[38;5;124m\"\u001b[39m\u001b[38;5;132;01m{\u001b[39;00maction\u001b[38;5;132;01m}\u001b[39;00m\u001b[38;5;124m is not a valid tool\u001b[39m\u001b[38;5;124m\"\u001b[39m)\n\u001b[1;32m    116\u001b[0m tool \u001b[38;5;241m=\u001b[39m \u001b[38;5;28mself\u001b[39m\u001b[38;5;241m.\u001b[39mtoolbox\u001b[38;5;241m.\u001b[39mget_tool(action)\n\u001b[1;32m    117\u001b[0m action_input \u001b[38;5;241m=\u001b[39m parsed_content[\u001b[38;5;124m\"\u001b[39m\u001b[38;5;124maction_input\u001b[39m\u001b[38;5;124m\"\u001b[39m]\n",
      "\u001b[0;31mRuntimeError\u001b[0m: Retrieve summarized text is not a valid tool"
     ]
    }
   ],
   "source": [
    "result = agent.run(f\"summarize article at {url}\")"
   ]
  },
  {
   "cell_type": "code",
   "execution_count": 177,
   "id": "ad148986-b036-489d-948f-d6ed0e564e58",
   "metadata": {},
   "outputs": [],
   "source": [
    "result"
   ]
  },
  {
   "cell_type": "code",
   "execution_count": null,
   "id": "25eb5ac9-0006-4ebe-a147-35f89d9800d6",
   "metadata": {},
   "outputs": [],
   "source": []
  },
  {
   "cell_type": "code",
   "execution_count": 157,
   "id": "7bedb948-d6bf-4417-97ca-d97191058a72",
   "metadata": {
    "tags": []
   },
   "outputs": [
    {
     "data": {
      "text/plain": [
       "True"
      ]
     },
     "execution_count": 157,
     "metadata": {},
     "output_type": "execute_result"
    }
   ],
   "source": [
    "agent.toolbox.contains_tool(result[\"action\"])"
   ]
  },
  {
   "cell_type": "code",
   "execution_count": null,
   "id": "34fdf50f-a00b-4a1d-8263-d107be07c74b",
   "metadata": {},
   "outputs": [],
   "source": []
  }
 ],
 "metadata": {
  "kernelspec": {
   "display_name": "Python 3 (ipykernel)",
   "language": "python",
   "name": "python3"
  },
  "language_info": {
   "codemirror_mode": {
    "name": "ipython",
    "version": 3
   },
   "file_extension": ".py",
   "mimetype": "text/x-python",
   "name": "python",
   "nbconvert_exporter": "python",
   "pygments_lexer": "ipython3",
   "version": "3.11.4"
  }
 },
 "nbformat": 4,
 "nbformat_minor": 5
}
