{
 "cells": [
  {
   "cell_type": "code",
   "execution_count": 11,
   "id": "17137ab5-fb3c-4611-b414-7eafc828b2b7",
   "metadata": {},
   "outputs": [],
   "source": [
    "%load_ext autoreload\n",
    "%autoreload 2"
   ]
  },
  {
   "cell_type": "code",
   "execution_count": 19,
   "id": "779a3125-e064-4d98-91e7-b37511d0d0c6",
   "metadata": {
    "tags": []
   },
   "outputs": [],
   "source": [
    "import article\n",
    "from planner import TaskPlanner"
   ]
  },
  {
   "cell_type": "code",
   "execution_count": 20,
   "id": "3987ea66-6e8a-4e74-b1b0-7882fef982fa",
   "metadata": {
    "tags": []
   },
   "outputs": [],
   "source": [
    "url = \"https://every.to/chain-of-thought/what-comes-after-saas\""
   ]
  },
  {
   "cell_type": "code",
   "execution_count": 21,
   "id": "dadcc953-8220-4465-91ce-e601061a101f",
   "metadata": {},
   "outputs": [
    {
     "name": "stdout",
     "output_type": "stream",
     "text": [
      "WTF\n"
     ]
    }
   ],
   "source": [
    "task_planner = TaskPlanner()"
   ]
  },
  {
   "cell_type": "code",
   "execution_count": 31,
   "id": "1f47d582-e12b-465a-903f-e262264ddb8c",
   "metadata": {
    "tags": []
   },
   "outputs": [],
   "source": [
    "task = f\"summarize {url}\"\n",
    "plan = task_planner.plan(task)"
   ]
  },
  {
   "cell_type": "code",
   "execution_count": 32,
   "id": "065ea9fa-8a02-4cf2-b616-1900ad199dbe",
   "metadata": {
    "tags": []
   },
   "outputs": [
    {
     "name": "stdout",
     "output_type": "stream",
     "text": [
      "1. Use the Article tool to fetch article data from the given URL: \"https://every.to/chain-of-thought/what-comes-after-saas\".\n",
      "2. Use the OpenAI tool to summarize the article by providing the fetched article data as input text and a prompt for the summary.\n"
     ]
    }
   ],
   "source": [
    "print(plan)"
   ]
  },
  {
   "cell_type": "code",
   "execution_count": null,
   "id": "613cf4a6-465e-41ca-87b2-285816934c2b",
   "metadata": {},
   "outputs": [],
   "source": []
  }
 ],
 "metadata": {
  "kernelspec": {
   "display_name": "Python 3 (ipykernel)",
   "language": "python",
   "name": "python3"
  },
  "language_info": {
   "codemirror_mode": {
    "name": "ipython",
    "version": 3
   },
   "file_extension": ".py",
   "mimetype": "text/x-python",
   "name": "python",
   "nbconvert_exporter": "python",
   "pygments_lexer": "ipython3",
   "version": "3.11.4"
  }
 },
 "nbformat": 4,
 "nbformat_minor": 5
}
