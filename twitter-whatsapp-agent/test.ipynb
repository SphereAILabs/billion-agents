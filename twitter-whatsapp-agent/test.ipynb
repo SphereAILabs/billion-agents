{
 "cells": [
  {
   "cell_type": "code",
   "execution_count": 106,
   "id": "17137ab5-fb3c-4611-b414-7eafc828b2b7",
   "metadata": {},
   "outputs": [
    {
     "name": "stdout",
     "output_type": "stream",
     "text": [
      "The autoreload extension is already loaded. To reload it, use:\n",
      "  %reload_ext autoreload\n"
     ]
    }
   ],
   "source": [
    "%load_ext autoreload\n",
    "%autoreload 2"
   ]
  },
  {
   "cell_type": "code",
   "execution_count": 136,
   "id": "779a3125-e064-4d98-91e7-b37511d0d0c6",
   "metadata": {
    "tags": []
   },
   "outputs": [],
   "source": [
    "import article\n",
    "from planner import TaskPlanner\n",
    "import tools\n",
    "from toolbox import ToolBox\n",
    "from tools.article import ArticleTool\n",
    "from agent import ArticleWhatsAppAgent"
   ]
  },
  {
   "cell_type": "code",
   "execution_count": 137,
   "id": "b1e5a9b9-0224-49b1-89de-3ecc7be8260a",
   "metadata": {
    "tags": []
   },
   "outputs": [],
   "source": [
    "article_tool = ArticleTool()"
   ]
  },
  {
   "cell_type": "code",
   "execution_count": 138,
   "id": "53c870d7-e919-4a24-9535-3ab72c5af402",
   "metadata": {
    "tags": []
   },
   "outputs": [],
   "source": [
    "tools = [article_tool]\n",
    "toolbox = ToolBox(tools=tools)"
   ]
  },
  {
   "cell_type": "code",
   "execution_count": 139,
   "id": "dadcc953-8220-4465-91ce-e601061a101f",
   "metadata": {},
   "outputs": [],
   "source": [
    "task_planner = TaskPlanner(toolbox=toolbox)"
   ]
  },
  {
   "cell_type": "code",
   "execution_count": 127,
   "id": "66253238-b8b0-4a18-80ff-4d56531d03e7",
   "metadata": {
    "tags": []
   },
   "outputs": [
    {
     "name": "stdout",
     "output_type": "stream",
     "text": [
      "Just do; no talk.\n",
      "\n",
      "You are going to construct a plan to accomplish a task by breaking it down into detailed subtasks. Each step MUST use a tool provided below. List out only the steps; all other information is irrelevant.\n",
      "\n",
      "###\n",
      "You have access to these tools:\n",
      "Article: use this tool to fetch article data given an url\n",
      "input: (url: str)\n",
      "output: Article(url=str)\n",
      "\n",
      "###\n",
      "use the following format:\n",
      "1. [Tool]: description of the subtask\n",
      "(...)\n"
     ]
    }
   ],
   "source": [
    "print(task_planner.system_prompt)"
   ]
  },
  {
   "cell_type": "code",
   "execution_count": 128,
   "id": "3987ea66-6e8a-4e74-b1b0-7882fef982fa",
   "metadata": {
    "tags": []
   },
   "outputs": [],
   "source": [
    "url = \"https://every.to/chain-of-thought/what-comes-after-saas\""
   ]
  },
  {
   "cell_type": "code",
   "execution_count": 140,
   "id": "f1327d7a-23a8-4ea3-ae2c-f7cb541128cd",
   "metadata": {},
   "outputs": [],
   "source": [
    "agent = ArticleWhatsAppAgent()"
   ]
  },
  {
   "cell_type": "code",
   "execution_count": 141,
   "id": "92950bbd-9361-46d7-bde3-8feea977fb76",
   "metadata": {
    "tags": []
   },
   "outputs": [
    {
     "name": "stdout",
     "output_type": "stream",
     "text": [
      "You are an autonomous agent that can complete tasks by following a series of steps and using available tools. You will be provided with a tentative plan outlining steps that may assist you.\n",
      "\n",
      "###\n",
      "You have access to these tools:\n",
      "Article: use this tool to fetch article data given an url\n",
      "input: (url: str)\n",
      "output: Article(url=str)\n",
      "###\n",
      "Use the following format:\n",
      "Task: the task you must complete\n",
      "Plan: a tentative plan with steps that may assist you\n",
      "\n",
      "{\n",
      "\"thought\": str # your reasoning about what to do\n",
      "\"action\":  str # the tool you are going to use; it must be one of the tools outlined above\n",
      "\"action_input\":  {\"arg name\": arg} # input to the action\n",
      "}\n",
      "{\"observation\": str # result of action}\n",
      "... (this thought/action/action_input/observation can repeat N times)\n",
      "{\n",
      "\"thought\":  str #I have completed the task\n",
      "\"final_anwser\":  str #Completed\n",
      "}\n",
      "\n",
      "The output must be in the markdown JSON format as described above. It will be checked by an output parser!\n",
      "\n"
     ]
    }
   ],
   "source": [
    "print(agent.system_prompt)"
   ]
  },
  {
   "cell_type": "code",
   "execution_count": 143,
   "id": "5d319478-90ba-4a4e-a163-6663da1f9075",
   "metadata": {
    "tags": []
   },
   "outputs": [
    {
     "name": "stdout",
     "output_type": "stream",
     "text": [
      "Task: 'get me article at https://every.to/chain-of-thought/what-comes-after-saas'\n",
      "Plan: 1. [Article]: Fetch the article data using the provided URL (https://every.to/chain-of-thought/what-comes-after-saas)\n",
      "content='{\\n\"thought\": \"I will use the Article tool to fetch the article data from the URL.\",\\n\"action\": \"Article\",\\n\"action_input\": {\"url\": \"https://every.to/chain-of-thought/what-comes-after-saas\"}\\n}' additional_kwargs={} example=False\n"
     ]
    }
   ],
   "source": [
    "agent.run(f\"get me article at {url}\")"
   ]
  },
  {
   "cell_type": "code",
   "execution_count": null,
   "id": "ad148986-b036-489d-948f-d6ed0e564e58",
   "metadata": {},
   "outputs": [],
   "source": []
  }
 ],
 "metadata": {
  "kernelspec": {
   "display_name": "Python 3 (ipykernel)",
   "language": "python",
   "name": "python3"
  },
  "language_info": {
   "codemirror_mode": {
    "name": "ipython",
    "version": 3
   },
   "file_extension": ".py",
   "mimetype": "text/x-python",
   "name": "python",
   "nbconvert_exporter": "python",
   "pygments_lexer": "ipython3",
   "version": "3.11.4"
  }
 },
 "nbformat": 4,
 "nbformat_minor": 5
}
