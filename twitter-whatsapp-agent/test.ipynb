{
 "cells": [
  {
   "cell_type": "code",
   "execution_count": 1,
   "id": "17137ab5-fb3c-4611-b414-7eafc828b2b7",
   "metadata": {},
   "outputs": [],
   "source": [
    "%load_ext autoreload\n",
    "%autoreload 2"
   ]
  },
  {
   "cell_type": "code",
   "execution_count": 12,
   "id": "779a3125-e064-4d98-91e7-b37511d0d0c6",
   "metadata": {
    "tags": []
   },
   "outputs": [],
   "source": [
    "from planner import TaskPlanner\n",
    "import tools\n",
    "from toolbox import ToolBox\n",
    "from tools.article import ArticleTool\n",
    "from tools.openai import OpenAITool\n",
    "from agent import ArticleWhatsAppAgent"
   ]
  },
  {
   "cell_type": "markdown",
   "id": "f4cafd0b-7238-4809-ae3d-7b4a478e2374",
   "metadata": {},
   "source": [
    "# Testing Tools"
   ]
  },
  {
   "cell_type": "code",
   "execution_count": 13,
   "id": "b1e5a9b9-0224-49b1-89de-3ecc7be8260a",
   "metadata": {
    "tags": []
   },
   "outputs": [],
   "source": [
    "article_tool = ArticleTool()"
   ]
  },
  {
   "cell_type": "code",
   "execution_count": 4,
   "id": "80c75426-83fa-4a7b-814d-60b27764b909",
   "metadata": {
    "tags": []
   },
   "outputs": [],
   "source": [
    "url = \"https://every.to/chain-of-thought/what-comes-after-saas\"\n",
    "article = article_tool(url)"
   ]
  },
  {
   "cell_type": "code",
   "execution_count": 5,
   "id": "17b9513f-8b23-4563-9ad7-d4fe623bf2fb",
   "metadata": {
    "tags": []
   },
   "outputs": [],
   "source": [
    "openai_tool = OpenAITool()"
   ]
  },
  {
   "cell_type": "code",
   "execution_count": 11,
   "id": "f38dcc43-3580-4b66-8420-3f13fae8f19b",
   "metadata": {
    "tags": []
   },
   "outputs": [
    {
     "name": "stdout",
     "output_type": "stream",
     "text": [
      "doing shit to article\n",
      "<class 'dict'>\n",
      "[Document(page_content='I built a little app recently to help me map my mind. It shoots me a series of texts every few hours that asks me questions about what’s going on: thoughts, feelings, emotions. It also sends a follow-up with a big question I’m currently wrestling with: “What’s your big goal?” When I get these texts, I dash off a few quick responses without thinking about it too much. I want to get as close to the snap answers that come to mind, and then move on with my day.\\n\\nThe cool thing about the app is that it then uses AI to generate a summary of what’s on my mind. It helps me see, day to day, what I’m thinking about and feeling. It also tries to condense a definitive answer to big questions I’m wrestling with—taking into account all of the different ways I’ve answered it—and provides observations about patterns it finds in my answers.\\n\\nIt’s been quite helpful for me.\\n\\nI was chatting with my friend, Every writer, coach, and fellow psychology nerd Casey Rosengren about the app recently and he asked if he could try it. I tensed up a bit at the amount of work required.\\n\\nSee, it’s currently very easy to build something like this for one person. But making it available for multiple people is a harder problem. In order to do this I’d have to implement logins, make the code multiplayer, build an interface to let him customize questions, and make sure my data doesn’t get mixed in with his. Especially for an app like this, where you’re sharing private thoughts, it’s just a bit of a hairball.\\n\\nBut then I had a little brainwave. I had built the app on Replit—so the problem was already solved.\\n\\nReplit is an all-in-one browser-based development and deployment environment. It allows you to code an app, and press one button to host it live on the internet.', metadata={'start_index': 5246}), Document(page_content=\"Brought to you by Designing Your Next Career Step Embark on a transformative 2-week Designing Your Next Career Step Course led by Simone Stolzoff, a leading figure from IDEO and author of 'The Good Enough Job'. You’re not just planning a career move; you’re curating it for optimal impact. Design your career, and create your future. Join our upcoming cohort, Aug 8-17, 2023. Enroll Today\\n\\nOperating a SaaS app is like running a one-room hotel that has unlimited occupancy. It’s as if you’ve figured out how to rent the same hotel room to many guests at a time through some weird tricks of quantum superposition. It is the greatest business in the world.\\n\\nCustomers pay for your hotel room by the month. Each one gets the same basic setup: bed, desk, and Wi-Fi that never works when you need it. When you make changes to the core room, all guests get the new version. But they can also request customizations personal to them, like a wake-up call—5 am for the gym rats, 1 pm for the barflies. Guests tend to stay for months or years at a time, paying for the same room as everyone else.\\n\\nIt is an absolute license to print money.\\n\\nQuantum hotel rooms are not all roses and free cash flows though. There are two crucial things to know about being the owner/proprietor of a business like this. The first is that transitioning from a single-user room to infinite occupancy takes effort. Your quantum superposition technology is a little complex to build. The second is that the longer you’re in business the more of your time and money you’re going to spend enabling “personalizations” for each guest. In the end, each guest customizes your hotel room so much that it looks like their own home.\\n\\nThis is very expensive and frustrating to deal with, but you console yourself by wiping your tears with stacks of thousand-dollar bills.\", metadata={'start_index': 0}), Document(page_content=\"Suddenly, instead of building a single-room quantum hotel, you’re building a suburban development. All of the houses on the block are in the same style, and you can build a new one for a new renter at the touch of a button. When renters move in, they can customize the house themselves without requiring any of your time or money—and without affecting any of the other houses.\\n\\nThis vision of software turns traditional SaaS into something far more bespoke, customizable, and remixable than the current generation of software allows for. The computer science researcher, Geoffrey Litt, who I interviewed here, calls this Malleable Software. I’ve been calling it Malleable Source. Malleable source means any app that allows you to modify its underlying code with AI. These apps can be open-source or closed.\\n\\nIt’s clear that this is a new paradigm on the horizon. I know because I stumbled into it.\\n\\nReimagine your career with Simone Stolzoff's 2-week Designing Your Next Career Step Course. You're not just making a job switch, you're making decisions for maximal effectiveness. Utilize Design Thinking's transformative power to sift through career prospects, pinpoint your individual goals, and plot a path toward achieving them. Turn aspirations into an empowering game plan for your future amidst uncertainty. Unlock your purpose with this course and launch into a sure-headed future brimming with a clear strategy. Engage with like-minded professionals, fostering a supportive community extending post-course. Craft your career, and shape your future. Be part of the next cohort starting Aug 8-17, 2023. Sign up today! Enroll Today\\n\\nMy experience with malleable source\", metadata={'start_index': 3572}), Document(page_content=\"Now it's your turn. I built this on Replit, and so if you want to run it yourself. The steps are pretty simple. Click here and press Run:Replit will create an entirely new version of the app, run it, and host it on the public internet specifically for you.\\n\\nWant to make changes? Just press “Fork”. You’ll be able to get access to the app, modify any piece of it, and host it on the public internet yourself just by pressing the big green “Play” button at the top of the interface.\\n\\nTo take this back to my metaphor at the top, doing this is like setting up a suburban development. I've built a model house, and now anyone can set up their own copy on my block. Best of all, you can do whatever you want with it! Your changes won't affect mine, but you can build on top of my progress with very little effort.\\n\\nI can’t tell you how big of a deal this is. Previously, allowing someone to run an app and hosted it on the public internet was a hundred-step process that was completely inaccessible to non-technical users. Today, all you have to do is click one button.\\n\\nYou can make changes by asking ChatGPT for help—even if you're not a developer. The opportunities for customization are endless.\\n\\nIf I wanted to monetize this, I could put the link to my Replit behind a paywall. Or only share it if you take a course with me—and this is exactly what I do with my chatbot course.\\n\\nThis ability to easily duplicate, remix, and run apps with AI is going to change everything about how software works over the next 10 years.\\n\\nIf that doesn’t get you excited about the future, I don’t know what will.\", metadata={'start_index': 14493})]\n"
     ]
    },
    {
     "data": {
      "text/plain": [
       "'This is an awesome article!!!!'"
      ]
     },
     "execution_count": 11,
     "metadata": {},
     "output_type": "execute_result"
    }
   ],
   "source": [
    "openai_tool(article, \"summarize\")"
   ]
  },
  {
   "cell_type": "code",
   "execution_count": 79,
   "id": "53c870d7-e919-4a24-9535-3ab72c5af402",
   "metadata": {
    "tags": []
   },
   "outputs": [],
   "source": [
    "tools = [article_tool]\n",
    "toolbox = ToolBox(tools=tools)"
   ]
  },
  {
   "cell_type": "code",
   "execution_count": 80,
   "id": "dadcc953-8220-4465-91ce-e601061a101f",
   "metadata": {},
   "outputs": [],
   "source": [
    "task_planner = TaskPlanner(toolbox=toolbox)"
   ]
  },
  {
   "cell_type": "code",
   "execution_count": 81,
   "id": "66253238-b8b0-4a18-80ff-4d56531d03e7",
   "metadata": {
    "tags": []
   },
   "outputs": [
    {
     "name": "stdout",
     "output_type": "stream",
     "text": [
      "Just do; no talk.\n",
      "\n",
      "You are going to construct a plan to accomplish a task by breaking it down into detailed subtasks. Each step MUST use a tool provided below. List out only the steps; all other information is irrelevant.\n",
      "\n",
      "###\n",
      "You have access to these tools:\n",
      "Article: use this tool to fetch article data given an url\n",
      "input: (url: str)\n",
      "output: ArticleData\n",
      "\n",
      "###\n",
      "use the following format:\n",
      "1. [Tool]: description of the subtask\n",
      "(...)\n"
     ]
    }
   ],
   "source": [
    "print(task_planner.system_prompt)"
   ]
  },
  {
   "cell_type": "code",
   "execution_count": 82,
   "id": "3987ea66-6e8a-4e74-b1b0-7882fef982fa",
   "metadata": {
    "tags": []
   },
   "outputs": [],
   "source": [
    "url = \"https://every.to/chain-of-thought/what-comes-after-saas\"\n",
    "# url = \"https://medium.com/mlearning-ai/object-detection-explained-yolo-v1-fb4bcd3d87a1\""
   ]
  },
  {
   "cell_type": "code",
   "execution_count": 83,
   "id": "f1327d7a-23a8-4ea3-ae2c-f7cb541128cd",
   "metadata": {},
   "outputs": [],
   "source": [
    "agent = ArticleWhatsAppAgent(max_iterations=2)"
   ]
  },
  {
   "cell_type": "code",
   "execution_count": 84,
   "id": "92950bbd-9361-46d7-bde3-8feea977fb76",
   "metadata": {
    "tags": []
   },
   "outputs": [
    {
     "name": "stdout",
     "output_type": "stream",
     "text": [
      "You are an autonomous agent that can complete tasks by following a series of steps and using available tools. You will be provided with a tentative plan outlining steps that may assist you.\n",
      "\n",
      "###\n",
      "You have access to these tools:\n",
      "Article: use this tool to fetch article data given an url\n",
      "input: (url: str)\n",
      "output: ArticleData\n",
      "\n",
      "OpenAI: use this tool to access a powerful AI model that can perform natural language tasks exceptionally well given article data and a prompt\n",
      "input: (article: ArticleData, prompt: str)\n",
      "output: str\n",
      "###\n",
      "Use the following format:\n",
      "Task: the task you must complete\n",
      "Plan: a tentative plan with steps that may assist you\n",
      "\n",
      "{\n",
      "\"thought\": str # your reasoning about what to do\n",
      "\"action\":  str # the tool you are going to use; it must be one of the tools outlined above\n",
      "\"action_input\":  {\"arg name\": arg} # input to the action\n",
      "}\n",
      "{\"observation\": str # result of action}\n",
      "... (this thought/action/action_input/observation can repeat N times)\n",
      "{\n",
      "\"thought\":  str #I have completed the task\n",
      "\"final_anwser\":  str #Completed\n",
      "}\n",
      "\n",
      "The output must be in the markdown JSON format as described above. It will be checked by an output parser!\n",
      "\n"
     ]
    }
   ],
   "source": [
    "print(agent.system_prompt)"
   ]
  },
  {
   "cell_type": "code",
   "execution_count": 85,
   "id": "5d319478-90ba-4a4e-a163-6663da1f9075",
   "metadata": {
    "tags": []
   },
   "outputs": [
    {
     "name": "stdout",
     "output_type": "stream",
     "text": [
      "Task: 'summarize article at https://every.to/chain-of-thought/what-comes-after-saas'\n",
      "Plan: 1. [Article]: Fetch article data using the provided URL.\n",
      "2. [OpenAI]: Use the article data and a prompt to generate a summary of the article.\n",
      "---\n",
      "{'thought': 'I will start by fetching the article data using the provided URL.', 'action': 'Article', 'action_input': {'url': 'https://every.to/chain-of-thought/what-comes-after-saas'}}\n",
      "Successfully fetched article with url=https://every.to/chain-of-thought/what-comes-after-saas. You can reference it by 'var_1'\n",
      "{'thought': 'Now that I have the article data, I can use it along with a prompt to generate a summary.', 'action': 'OpenAI', 'action_input': {'article': 'var_1', 'prompt': 'Summarize the article'}}\n",
      "doing shit to article\n",
      "<class 'dict'>\n",
      "None\n"
     ]
    }
   ],
   "source": [
    "result = agent.run(f\"summarize article at {url}\")"
   ]
  },
  {
   "cell_type": "code",
   "execution_count": 177,
   "id": "ad148986-b036-489d-948f-d6ed0e564e58",
   "metadata": {},
   "outputs": [],
   "source": [
    "result"
   ]
  },
  {
   "cell_type": "code",
   "execution_count": null,
   "id": "25eb5ac9-0006-4ebe-a147-35f89d9800d6",
   "metadata": {},
   "outputs": [],
   "source": []
  },
  {
   "cell_type": "code",
   "execution_count": 157,
   "id": "7bedb948-d6bf-4417-97ca-d97191058a72",
   "metadata": {
    "tags": []
   },
   "outputs": [
    {
     "data": {
      "text/plain": [
       "True"
      ]
     },
     "execution_count": 157,
     "metadata": {},
     "output_type": "execute_result"
    }
   ],
   "source": [
    "agent.toolbox.contains_tool(result[\"action\"])"
   ]
  },
  {
   "cell_type": "code",
   "execution_count": null,
   "id": "34fdf50f-a00b-4a1d-8263-d107be07c74b",
   "metadata": {},
   "outputs": [],
   "source": []
  }
 ],
 "metadata": {
  "kernelspec": {
   "display_name": "Python 3 (ipykernel)",
   "language": "python",
   "name": "python3"
  },
  "language_info": {
   "codemirror_mode": {
    "name": "ipython",
    "version": 3
   },
   "file_extension": ".py",
   "mimetype": "text/x-python",
   "name": "python",
   "nbconvert_exporter": "python",
   "pygments_lexer": "ipython3",
   "version": "3.11.4"
  }
 },
 "nbformat": 4,
 "nbformat_minor": 5
}
