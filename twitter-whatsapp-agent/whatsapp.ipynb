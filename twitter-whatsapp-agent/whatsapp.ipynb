{
 "cells": [
  {
   "cell_type": "code",
   "execution_count": 5,
   "id": "f84eb2e2-b069-47db-bc09-04ed8e9259cc",
   "metadata": {
    "tags": []
   },
   "outputs": [],
   "source": [
    "%load_ext autoreload\n",
    "%autoreload 2"
   ]
  },
  {
   "cell_type": "code",
   "execution_count": 6,
   "id": "ee960b14-e005-4185-92bb-8cf821816902",
   "metadata": {
    "tags": []
   },
   "outputs": [
    {
     "ename": "ModuleNotFoundError",
     "evalue": "No module named 'pywhatkit'",
     "output_type": "error",
     "traceback": [
      "\u001b[0;31m---------------------------------------------------------------------------\u001b[0m",
      "\u001b[0;31mModuleNotFoundError\u001b[0m                       Traceback (most recent call last)",
      "Cell \u001b[0;32mIn[6], line 1\u001b[0m\n\u001b[0;32m----> 1\u001b[0m \u001b[38;5;28;01mfrom\u001b[39;00m \u001b[38;5;21;01mtools\u001b[39;00m\u001b[38;5;21;01m.\u001b[39;00m\u001b[38;5;21;01mwhatsapp\u001b[39;00m \u001b[38;5;28;01mimport\u001b[39;00m WhatsAppTool\n",
      "File \u001b[0;32m~/Desktop/applied-ai/billion-agents/twitter-whatsapp-agent/tools/whatsapp.py:1\u001b[0m\n\u001b[0;32m----> 1\u001b[0m \u001b[38;5;28;01mimport\u001b[39;00m \u001b[38;5;21;01mpywhatkit\u001b[39;00m\n\u001b[1;32m      3\u001b[0m \u001b[38;5;28;01mfrom\u001b[39;00m \u001b[38;5;21;01m.\u001b[39;00m\u001b[38;5;21;01mtool\u001b[39;00m \u001b[38;5;28;01mimport\u001b[39;00m Tool\n\u001b[1;32m      6\u001b[0m \u001b[38;5;28;01mclass\u001b[39;00m \u001b[38;5;21;01mWhatsAppTool\u001b[39;00m(Tool):\n",
      "\u001b[0;31mModuleNotFoundError\u001b[0m: No module named 'pywhatkit'"
     ]
    }
   ],
   "source": [
    "from tools.whatsapp import WhatsAppTool"
   ]
  },
  {
   "cell_type": "code",
   "execution_count": 3,
   "id": "b98c6b37-03b8-498c-ba40-0ae012b92172",
   "metadata": {
    "tags": []
   },
   "outputs": [],
   "source": [
    "whatsapp_tool = WhatsAppTool()"
   ]
  },
  {
   "cell_type": "code",
   "execution_count": 1,
   "id": "f8fb219b-d7da-47a2-ba31-661df6d60ac3",
   "metadata": {
    "tags": []
   },
   "outputs": [],
   "source": [
    "import pywhatkit"
   ]
  },
  {
   "cell_type": "code",
   "execution_count": 6,
   "id": "a07a33fa-a84d-4ac5-90a2-1fdee842bb95",
   "metadata": {},
   "outputs": [],
   "source": [
    "pywhatkit.sendwhatmsg_instantly(\"+9179571377\", \"Hi Eric Chen\", 4)"
   ]
  },
  {
   "cell_type": "code",
   "execution_count": null,
   "id": "30dac180-6738-41a6-a99a-7718eaa5800f",
   "metadata": {},
   "outputs": [],
   "source": []
  }
 ],
 "metadata": {
  "kernelspec": {
   "display_name": "Python 3 (ipykernel)",
   "language": "python",
   "name": "python3"
  },
  "language_info": {
   "codemirror_mode": {
    "name": "ipython",
    "version": 3
   },
   "file_extension": ".py",
   "mimetype": "text/x-python",
   "name": "python",
   "nbconvert_exporter": "python",
   "pygments_lexer": "ipython3",
   "version": "3.11.4"
  }
 },
 "nbformat": 4,
 "nbformat_minor": 5
}
