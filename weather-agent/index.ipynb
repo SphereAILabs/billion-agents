{
 "cells": [
  {
   "cell_type": "code",
   "execution_count": 273,
   "id": "ea667156-9a55-4958-99a6-a465acb0540d",
   "metadata": {},
   "outputs": [
    {
     "name": "stdout",
     "output_type": "stream",
     "text": [
      "The autoreload extension is already loaded. To reload it, use:\n",
      "  %reload_ext autoreload\n"
     ]
    }
   ],
   "source": [
    "%load_ext autoreload\n",
    "%autoreload 2"
   ]
  },
  {
   "cell_type": "code",
   "execution_count": 281,
   "id": "0fdd1734-4992-43c8-8021-fbcac224885c",
   "metadata": {
    "tags": []
   },
   "outputs": [],
   "source": [
    "from weather_agent import WeatherAgent"
   ]
  },
  {
   "cell_type": "code",
   "execution_count": 286,
   "id": "c389c837-d96a-4fbc-a7ec-74408751d033",
   "metadata": {
    "tags": []
   },
   "outputs": [],
   "source": [
    "weather_agent = WeatherAgent(temperature=0.7, max_iterations=3)"
   ]
  },
  {
   "cell_type": "code",
   "execution_count": 290,
   "id": "01d776d1-71eb-4c6c-a883-edd190be0736",
   "metadata": {
    "tags": []
   },
   "outputs": [
    {
     "name": "stdout",
     "output_type": "stream",
     "text": [
      "Thought: I can search for the current weather in San Francisco and provide a summary of the conditions.\n",
      "Action: Search[Current weather in San Francisco]\n",
      "-----\n",
      "Observation: Current weather in San Francisco - Google SearchGoogle×Please click here if you are not redirected within a few seconds.    AllNewsImagesShopping Maps Videos Books Search tools    Any timeAny timePast hourPast 24 hoursPast weekPast monthPast yearAll resultsAll resultsVerbatimSan Francisco, CA / Weather61°FFriday 10:27 AMPartly cloudyMore on weather.comPeople also askWhat is the best month to visit San Francisco?What month is the coldest in San Francisco?Does it ever get warm in San Francisco?Why is it so cold in San Francisco right now?Current Weather - San Francisco, CA - AccuWeatherwww.accuweather.com › san-francisco › current-weatherCurrent Weather. 1:23 AM. 55°F. Partly cloudy.Hourly Weather Forecast for San francisco, CAweather.com › weather › hourbyhour › USCA0987:1:USHourly Weather-San francisco, CA · 1 pm. 66°. 1%. Mostly Sunny. Feels Like66°. WindW 10 mph · 2 pm. 67°. 1%. Sunny. Feels Like67°. WindW 13 mph · 3 pm. 68°. 1%.San francisco, CA Weather Forecast and Conditions | Weather.comweather.com › weather › today › USCA0987:1:USSan francisco, CA Forecast · Morning. 58°. -- · Afternoon. 67°. -- · Evening. 59°. Chance of Rain2% · Overnight. 54°. Chance of Rain11%.Popular on TwitterNWS Bay Area 🌉Twitter › NWSBayAreaWarm morning for elevations above 1500 ft. Most locations bottomed out in the🌉Twitter › NWSBayAreaWarm morning for elevations above 1500 ft. Most locations bottomed out in the 70s, with a number of locations not falling below 80 degrees. Mallory Ridge fell to 83, and Hawkeye and Altamont Raws only fell to 80. #CAwx Twitter • 3 hours agoNWS Bay Area 🌉Twitter › NWSBayAreaGetting reports of fog, including dense fog with visibilities < 1/4 mile, along the immediate coast especially along the Monterey Bay. If heading out on the roads, please use low beams, slow down, allow extra space between vehicles. Fog clearing by late morning. #CAwxTwitter • 5 hours agoNWS Bay Area 🌉Twitter › NWSBayAreaHeads up for poor visibility around Monterey Bay! Dense Fog Advisory until 10 AM this morning. Please travel carefully! #cawx Twitter • 4 hours agoNWS Bay Area 🌉Twitter › NWSBayAreaWow!  Look at that warm nose! Our morning balloon launch at KOAK shows nearly 31 degrees C (88 degrees F) at 925 mb or roughly 2500 feet.  #CAwx Twitter • 3 hours agoNWS Bay Area 🌉Twitter ›\n",
      "Thought: The current weather in San Francisco is partly cloudy with a temperature of 61°F.\n",
      "Final Answer: The current weather in San Francisco is partly cloudy with a temperature of 61°F.\n",
      "-----\n"
     ]
    }
   ],
   "source": [
    "result = weather_agent.query(\"Summary of weather in SF\")"
   ]
  },
  {
   "cell_type": "code",
   "execution_count": 291,
   "id": "45709150-8adf-446c-b234-294c5825be0a",
   "metadata": {
    "tags": []
   },
   "outputs": [
    {
     "data": {
      "text/plain": [
       "'The current weather in San Francisco is partly cloudy with a temperature of 61°F.'"
      ]
     },
     "execution_count": 291,
     "metadata": {},
     "output_type": "execute_result"
    }
   ],
   "source": [
    "result"
   ]
  },
  {
   "cell_type": "code",
   "execution_count": null,
   "id": "6b435f57-394b-4fe1-b990-908c0beb7d36",
   "metadata": {},
   "outputs": [],
   "source": []
  }
 ],
 "metadata": {
  "kernelspec": {
   "display_name": "Python 3 (ipykernel)",
   "language": "python",
   "name": "python3"
  },
  "language_info": {
   "codemirror_mode": {
    "name": "ipython",
    "version": 3
   },
   "file_extension": ".py",
   "mimetype": "text/x-python",
   "name": "python",
   "nbconvert_exporter": "python",
   "pygments_lexer": "ipython3",
   "version": "3.11.4"
  }
 },
 "nbformat": 4,
 "nbformat_minor": 5
}
