{
 "cells": [
  {
   "cell_type": "code",
   "execution_count": 208,
   "id": "ea667156-9a55-4958-99a6-a465acb0540d",
   "metadata": {},
   "outputs": [
    {
     "name": "stdout",
     "output_type": "stream",
     "text": [
      "The autoreload extension is already loaded. To reload it, use:\n",
      "  %reload_ext autoreload\n"
     ]
    }
   ],
   "source": [
    "%load_ext autoreload\n",
    "%autoreload 2"
   ]
  },
  {
   "cell_type": "code",
   "execution_count": 252,
   "id": "0fdd1734-4992-43c8-8021-fbcac224885c",
   "metadata": {
    "tags": []
   },
   "outputs": [],
   "source": [
    "from weather_agent import WeatherAgent"
   ]
  },
  {
   "cell_type": "code",
   "execution_count": 253,
   "id": "c389c837-d96a-4fbc-a7ec-74408751d033",
   "metadata": {
    "tags": []
   },
   "outputs": [],
   "source": [
    "weather_agent = WeatherAgent(max_iteratio)"
   ]
  },
  {
   "cell_type": "code",
   "execution_count": 254,
   "id": "01d776d1-71eb-4c6c-a883-edd190be0736",
   "metadata": {
    "tags": []
   },
   "outputs": [
    {
     "name": "stdout",
     "output_type": "stream",
     "text": [
      "Thought: I can search for the current temperature in San Francisco using a search engine.\n",
      "\n",
      "Action: Search[What is the temperature in San Francisco]\n",
      "\n",
      "-----\n",
      "Observation: What is the temperature in San Francisco - Google SearchGoogle×Please click here if you are not redirected within a few seconds.    AllNewsImagesShopping Maps Videos Books Search tools    Any timeAny timePast hourPast 24 hoursPast weekPast monthPast yearAll resultsAll resultsVerbatimSan Francisco, CA / Weather54°FFriday 5:51 AMClear with periodic cloudsMore on weather.comPeople also askWhat month is the coldest in San Francisco?What is the warmest month in San Francisco?Does it ever get hot in San Francisco?What is the best month to visit San Francisco?San francisco, CA 10-Day Weather Forecastweather.com › weather › tenday › San+Francisco+CA+USCA0987:1:US10 Day Weather-San francisco, CA. As of 4:38 am PDT. Today. 71°/55°. 3%. Fri 21 | Day. 71°. 3%. WSW 16 mph. Partly cloudy skies. High 71F.San Francisco, CA 10-Day Weather Forecastweather.com › weather › tendayClear to partly cloudy. Low 52F. Winds WSW at 10 to 15 mph. Humidity91%.Current Weather - San Francisco, CA - AccuWeatherwww.accuweather.com › san-francisco › current-weatherSan Francisco, CA. 55°F.San Francisco, CA Weather Forecast | AccuWeatherwww.accuweather.com › san-francisco › weather-forecastSan Francisco, CA. 59°F.San Francisco CA - National Weather Serviceforecast.weather.gov › zipcity › inputstring=San+Francisco,CAPartly cloudy, with a low\n",
      "Thought: The current temperature in San Francisco is 55°F.\n",
      "\n",
      "Final Answer: The temperature in San Francisco is 55°F.\n",
      "-----\n"
     ]
    }
   ],
   "source": [
    "result = weather_agent.query(\"What is the weather in SF?\")"
   ]
  },
  {
   "cell_type": "code",
   "execution_count": null,
   "id": "2eaace8d-1cfe-4857-9e1d-abc2c36926fc",
   "metadata": {},
   "outputs": [],
   "source": []
  }
 ],
 "metadata": {
  "kernelspec": {
   "display_name": "Python 3 (ipykernel)",
   "language": "python",
   "name": "python3"
  },
  "language_info": {
   "codemirror_mode": {
    "name": "ipython",
    "version": 3
   },
   "file_extension": ".py",
   "mimetype": "text/x-python",
   "name": "python",
   "nbconvert_exporter": "python",
   "pygments_lexer": "ipython3",
   "version": "3.11.4"
  }
 },
 "nbformat": 4,
 "nbformat_minor": 5
}
