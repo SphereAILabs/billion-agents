{
 "cells": [
  {
   "cell_type": "code",
   "execution_count": 208,
   "id": "ea667156-9a55-4958-99a6-a465acb0540d",
   "metadata": {},
   "outputs": [
    {
     "name": "stdout",
     "output_type": "stream",
     "text": [
      "The autoreload extension is already loaded. To reload it, use:\n",
      "  %reload_ext autoreload\n"
     ]
    }
   ],
   "source": [
    "%load_ext autoreload\n",
    "%autoreload 2"
   ]
  },
  {
   "cell_type": "code",
   "execution_count": 257,
   "id": "0fdd1734-4992-43c8-8021-fbcac224885c",
   "metadata": {
    "tags": []
   },
   "outputs": [],
   "source": [
    "from weather_agent import WeatherAgent"
   ]
  },
  {
   "cell_type": "code",
   "execution_count": 258,
   "id": "c389c837-d96a-4fbc-a7ec-74408751d033",
   "metadata": {
    "tags": []
   },
   "outputs": [],
   "source": [
    "weather_agent = WeatherAgent(max_iterations=3)"
   ]
  },
  {
   "cell_type": "code",
   "execution_count": 260,
   "id": "01d776d1-71eb-4c6c-a883-edd190be0736",
   "metadata": {
    "tags": []
   },
   "outputs": [
    {
     "name": "stdout",
     "output_type": "stream",
     "text": [
      "Thought: I can search for the current weather in San Francisco to answer the question.\n",
      "Action: Search[What is the weather in San Francisco]\n",
      "-----\n",
      "Observation: What is the weather in San Francisco - Google SearchGoogle×Please click here if you are not redirected within a few seconds.    AllNewsShoppingImages Maps Videos Books Search tools    Any timeAny timePast hourPast 24 hoursPast weekPast monthPast yearAll resultsAll resultsVerbatimSan Francisco, CA / Weather54°FFriday 5:55 AMClear with periodic cloudsMore on weather.comPeople also askWhat is the best month to visit San Francisco?What month is the coldest in San Francisco?What is the hottest month in San Francisco?What is San Francisco weather usually like?San francisco, CA 10-Day Weather Forecastweather.com › weather › tenday › San+Francisco+CA+USCA0987:1:US10 Day Weather-San francisco, CA. As of 4:38 am PDT. Today. 71°/55°. 3%. Fri 21 | Day. 71°. 3%. WSW 16 mph. Partly cloudy skies. High 71F.Popular on TwitterNWS Bay Area 🌉Twitter › NWSBayAreaGetting reports of fog, including dense fog with visibilities < 1/4 mile, along the immediate coast especially along the Monterey Bay. If heading out on the roads, please use low beams, slow down, allow extra space between vehicles. Fog clearing by late morning. #CAwxTwitter • 18 minutes agoNWS Bay Area 🌉Twitter › NWSBayAreaIt's going to be hot tomorrow & Saturday for inland areas. An important reminder to always look before you lock your car to make sure all kids\n",
      "Thought: The current weather in San Francisco is not mentioned in the observation. I will need to search again to find the current weather.\n",
      "Action: Search[San Francisco current weather]\n",
      "-----\n",
      "Observation: San Francisco current weather - Google SearchGoogle×Please click here if you are not redirected within a few seconds.    AllNewsImagesShopping Maps Videos Books Search tools    Any timeAny timePast hourPast 24 hoursPast weekPast monthPast yearAll resultsAll resultsVerbatimSan Francisco, CA / Weather54°FFriday 5:55 AMClear with periodic cloudsMore on weather.comCurrent Weather - San Francisco, CA - AccuWeatherwww.accuweather.com › san-francisco › current-weatherCurrent Weather. 1:23 AM. 55°F. Partly cloudy.People also askWhat is the coldest month in San Francisco?Why is it so cold in San Francisco right now?Does it ever get hot in San Francisco?What's the warmest month in San Francisco?Popular on TwitterNWS Bay Area 🌉Twitter › NWSBayAreaGetting reports of fog, including dense fog with visibilities < 1/4 mile, along the immediate coast especially along the Monterey Bay. If heading out on the roads, please use low beams, slow down, allow extra space between vehicles. Fog clearing by late morning. #CAwxTwitter • 18 minutes agoNWS Bay Area 🌉Twitter › NWSBayAreaIt's going to be hot tomorrow & Saturday for inland areas. An important reminder to always look before you lock your car to make sure all kids and pets are accounted for and out of the car.    Feel free to share this with neighbors, friends,\n",
      "Thought: The current weather in San Francisco is 55°F and partly cloudy.\n",
      "Final Answer: The current weather in San Francisco is 55°F and partly cloudy.\n",
      "-----\n"
     ]
    }
   ],
   "source": [
    "result = weather_agent.query(\"What is the weather in SF?\")"
   ]
  },
  {
   "cell_type": "code",
   "execution_count": null,
   "id": "2eaace8d-1cfe-4857-9e1d-abc2c36926fc",
   "metadata": {},
   "outputs": [],
   "source": []
  }
 ],
 "metadata": {
  "kernelspec": {
   "display_name": "Python 3 (ipykernel)",
   "language": "python",
   "name": "python3"
  },
  "language_info": {
   "codemirror_mode": {
    "name": "ipython",
    "version": 3
   },
   "file_extension": ".py",
   "mimetype": "text/x-python",
   "name": "python",
   "nbconvert_exporter": "python",
   "pygments_lexer": "ipython3",
   "version": "3.11.4"
  }
 },
 "nbformat": 4,
 "nbformat_minor": 5
}
