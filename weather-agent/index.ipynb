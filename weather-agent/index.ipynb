{
 "cells": [
  {
   "cell_type": "code",
   "execution_count": 208,
   "id": "ea667156-9a55-4958-99a6-a465acb0540d",
   "metadata": {},
   "outputs": [
    {
     "name": "stdout",
     "output_type": "stream",
     "text": [
      "The autoreload extension is already loaded. To reload it, use:\n",
      "  %reload_ext autoreload\n"
     ]
    }
   ],
   "source": [
    "%load_ext autoreload\n",
    "%autoreload 2"
   ]
  },
  {
   "cell_type": "code",
   "execution_count": 221,
   "id": "0fdd1734-4992-43c8-8021-fbcac224885c",
   "metadata": {
    "tags": []
   },
   "outputs": [],
   "source": [
    "from weather_agent import WeatherAgent"
   ]
  },
  {
   "cell_type": "code",
   "execution_count": 224,
   "id": "c389c837-d96a-4fbc-a7ec-74408751d033",
   "metadata": {
    "tags": []
   },
   "outputs": [],
   "source": [
    "weather_agent = WeatherAgent()"
   ]
  },
  {
   "cell_type": "code",
   "execution_count": 195,
   "id": "01d776d1-71eb-4c6c-a883-edd190be0736",
   "metadata": {
    "tags": []
   },
   "outputs": [
    {
     "name": "stdout",
     "output_type": "stream",
     "text": [
      "content='Question: What is the weather in SF?' additional_kwargs={} example=False [SystemMessage(content='Objective: Answer questions I have about the weather\\n\\n###\\nActions:\\n- Search[query]: look up a query on Google\\nie. Search[What is the weather in NYC]\\n\\n###\\nUse the following format:\\nQuestion: <the input question you must answer>\\nThought: <reasoning on how you are going to accomplish the objective>\\nAction: <action you are going to take>\\nObservation: <the result of the action>\\n... (this Thought/Action/Observation can repeat N times)\\nThought: <I now know the final answer>\\nFinal Answer: <the final answer to the original input question>\\n', additional_kwargs={}), HumanMessage(content='Question: What is the weather in SF?', additional_kwargs={}, example=False)]\n"
     ]
    }
   ],
   "source": [
    "result = weather_agent.query(\"What is the weather in SF?\")"
   ]
  },
  {
   "cell_type": "code",
   "execution_count": 196,
   "id": "1451b6cb-39b5-48e5-a7f9-564c932ba1a8",
   "metadata": {
    "tags": []
   },
   "outputs": [],
   "source": [
    "message = result.content.strip()"
   ]
  },
  {
   "cell_type": "code",
   "execution_count": 197,
   "id": "85e2e9f2-7466-4c98-8f95-338b9c4de87e",
   "metadata": {
    "tags": []
   },
   "outputs": [
    {
     "data": {
      "text/plain": [
       "'Thought: I can search for the current weather in San Francisco to answer the question.\\nAction: Search[What is the weather in San Francisco]'"
      ]
     },
     "execution_count": 197,
     "metadata": {},
     "output_type": "execute_result"
    }
   ],
   "source": [
    "message"
   ]
  },
  {
   "cell_type": "code",
   "execution_count": 198,
   "id": "887ee5b8-899e-4fed-a306-2dc19dbc5a4a",
   "metadata": {
    "tags": []
   },
   "outputs": [
    {
     "data": {
      "text/plain": [
       "87"
      ]
     },
     "execution_count": 198,
     "metadata": {},
     "output_type": "execute_result"
    }
   ],
   "source": [
    "message.index(\"Action: \")"
   ]
  },
  {
   "cell_type": "code",
   "execution_count": 199,
   "id": "6bc55265-9277-439a-8c50-5bdc76ee4e6b",
   "metadata": {
    "tags": []
   },
   "outputs": [
    {
     "data": {
      "text/plain": [
       "{'action': 'Search', 'action_input': 'What is the weather in San Francisco'}"
      ]
     },
     "execution_count": 199,
     "metadata": {},
     "output_type": "execute_result"
    }
   ],
   "source": [
    "weather_agent._get_action_and_input(result)"
   ]
  },
  {
   "cell_type": "code",
   "execution_count": 233,
   "id": "953365e4-6e8b-4d57-83be-ee7a47e424ce",
   "metadata": {
    "tags": []
   },
   "outputs": [],
   "source": [
    "weather_agent = WeatherAgent()"
   ]
  },
  {
   "cell_type": "code",
   "execution_count": 235,
   "id": "bc8181b3-fced-4ad5-96c4-dd4a1a062760",
   "metadata": {},
   "outputs": [
    {
     "name": "stdout",
     "output_type": "stream",
     "text": [
      "What is the weather in SF? - Google SearchGoogle×Please click here if you are not redirected within a few seconds.    AllNewsShoppingBooks Images Maps Videos Search tools    Any timeAny timePast hourPast 24 hoursPast weekPast monthPast yearAll resultsAll resultsVerbatimSan Francisco, CA / Weather60°FThursday 8:29 PMClear with periodic cloudsMore on weather.comSan francisco, CA 10-Day Weather Forecastweather.com › weather › tenday › San+Francisco+CA+USCA0987:1:USFri 21. 70 · Partly cloudy skies. High near 70F. Winds WSW at 15 to 25 mph. ; Sat 22. 72 · Sunshine and clouds mixed. High 72F. Winds WSW at 10 to 20 mph. ; Sun 23.People also askWhy does SF feel so cold?What is the best month to visit San Francisco?What is the coldest month in San Francisco?Does it ever get hot in San Francisco?San francisco, CA 10-Day Weather Forecast | Weather.comweather.com › weather › tenday › USCA0987:1:USPlentiful sunshine. High near 70F. Winds W at 10 to 20 mph. · 69% · 6:03 am ; Some clouds in the morning will give way to mainly sunny skies for the afternoon.Popular on TwitterNWS Bay Area 🌉Twitter › NWSBayAreaHot temperatures arrive for inland areas tomorrow and last into Saturday. A moderate HeatRisk will exist for heat sensitive populations and those without adequate cooling or hydration. Inland highs will\n",
      "9\n"
     ]
    }
   ],
   "source": [
    "weather_agent._search(\"What is the weather in SF?\")"
   ]
  },
  {
   "cell_type": "code",
   "execution_count": 236,
   "id": "5383236a-5f15-4587-8fb8-15a170ea68cd",
   "metadata": {
    "tags": []
   },
   "outputs": [
    {
     "data": {
      "text/plain": [
       "1311"
      ]
     },
     "execution_count": 236,
     "metadata": {},
     "output_type": "execute_result"
    }
   ],
   "source": [
    "len(\"What is the weather in SF? - Google SearchGoogle×Please click here if you are not redirected within a few seconds.    AllNewsShoppingBooks Images Maps Videos Search tools    Any timeAny timePast hourPast 24 hoursPast weekPast monthPast yearAll resultsAll resultsVerbatimSan Francisco, CA / Weather60°FThursday 8:29 PMClear with periodic cloudsMore on weather.comSan francisco, CA 10-Day Weather Forecastweather.com › weather › tenday › San+Francisco+CA+USCA0987:1:USFri 21. 70 · Partly cloudy skies. High near 70F. Winds WSW at 15 to 25 mph. ; Sat 22. 72 · Sunshine and clouds mixed. High 72F. Winds WSW at 10 to 20 mph. ; Sun 23.People also askWhy does SF feel so cold?What is the best month to visit San Francisco?What is the coldest month in San Francisco?Does it ever get hot in San Francisco?San francisco, CA 10-Day Weather Forecast | Weather.comweather.com › weather › tenday › USCA0987:1:USPlentiful sunshine. High near 70F. Winds W at 10 to 20 mph. · 69% · 6:03 am ; Some clouds in the morning will give way to mainly sunny skies for the afternoon.Popular on TwitterNWS Bay Area 🌉Twitter › NWSBayAreaHot temperatures arrive for inland areas tomorrow and last into Saturday. A moderate HeatRisk will exist for heat sensitive populations and those without adequate cooling or hydration. Inland highs will\")"
   ]
  },
  {
   "cell_type": "code",
   "execution_count": null,
   "id": "9e62574b-6bb3-4477-9602-7ebd1a11dc56",
   "metadata": {},
   "outputs": [],
   "source": []
  }
 ],
 "metadata": {
  "kernelspec": {
   "display_name": "Python 3 (ipykernel)",
   "language": "python",
   "name": "python3"
  },
  "language_info": {
   "codemirror_mode": {
    "name": "ipython",
    "version": 3
   },
   "file_extension": ".py",
   "mimetype": "text/x-python",
   "name": "python",
   "nbconvert_exporter": "python",
   "pygments_lexer": "ipython3",
   "version": "3.11.4"
  }
 },
 "nbformat": 4,
 "nbformat_minor": 5
}
