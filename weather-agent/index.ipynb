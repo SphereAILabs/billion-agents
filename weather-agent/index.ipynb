{
 "cells": [
  {
   "cell_type": "code",
   "execution_count": 133,
   "id": "ea667156-9a55-4958-99a6-a465acb0540d",
   "metadata": {},
   "outputs": [
    {
     "name": "stdout",
     "output_type": "stream",
     "text": [
      "The autoreload extension is already loaded. To reload it, use:\n",
      "  %reload_ext autoreload\n"
     ]
    }
   ],
   "source": [
    "%load_ext autoreload\n",
    "%autoreload 2"
   ]
  },
  {
   "cell_type": "code",
   "execution_count": 134,
   "id": "0fdd1734-4992-43c8-8021-fbcac224885c",
   "metadata": {
    "tags": []
   },
   "outputs": [],
   "source": [
    "from weather_agent import WeatherAgent"
   ]
  },
  {
   "cell_type": "code",
   "execution_count": 137,
   "id": "c389c837-d96a-4fbc-a7ec-74408751d033",
   "metadata": {
    "tags": []
   },
   "outputs": [],
   "source": [
    "weather_agent = WeatherAgent()"
   ]
  },
  {
   "cell_type": "code",
   "execution_count": 139,
   "id": "01d776d1-71eb-4c6c-a883-edd190be0736",
   "metadata": {
    "tags": []
   },
   "outputs": [
    {
     "name": "stdout",
     "output_type": "stream",
     "text": [
      "content='Question: What is the weather in SF?' additional_kwargs={} example=False [SystemMessage(content='Objective: Answer questions I have about the weather\\n\\n###\\nActions:\\n- Search[query]: look up a query on Google\\nie. Search[What is the weather in NYC]\\n\\n###\\nUse the following format:\\nQuestion: <the input question you must answer>\\nThought: <reasoning on how you are going to accomplish the objective>\\nAction: <action you are going to take>\\nObservation: <the result of the action>\\n... (this Thought/Action/Observation can repeat N times)\\nThought: <I now know the final answer>\\nFinal Answer: <the final answer to the original input question>\\n', additional_kwargs={}), HumanMessage(content='Question: What is the weather in SF?', additional_kwargs={}, example=False)]\n"
     ]
    }
   ],
   "source": [
    "result = weather_agent.query(\"What is the weather in SF?\")"
   ]
  },
  {
   "cell_type": "code",
   "execution_count": 142,
   "id": "1451b6cb-39b5-48e5-a7f9-564c932ba1a8",
   "metadata": {
    "tags": []
   },
   "outputs": [],
   "source": [
    "message = result.content.strip()"
   ]
  },
  {
   "cell_type": "code",
   "execution_count": 143,
   "id": "85e2e9f2-7466-4c98-8f95-338b9c4de87e",
   "metadata": {
    "tags": []
   },
   "outputs": [
    {
     "data": {
      "text/plain": [
       "'Thought: I can search for the current weather in San Francisco to answer the question.\\nAction: Search[What is the weather in San Francisco]'"
      ]
     },
     "execution_count": 143,
     "metadata": {},
     "output_type": "execute_result"
    }
   ],
   "source": [
    "message"
   ]
  },
  {
   "cell_type": "code",
   "execution_count": 148,
   "id": "887ee5b8-899e-4fed-a306-2dc19dbc5a4a",
   "metadata": {
    "tags": []
   },
   "outputs": [
    {
     "data": {
      "text/plain": [
       "87"
      ]
     },
     "execution_count": 148,
     "metadata": {},
     "output_type": "execute_result"
    }
   ],
   "source": [
    "message.index(\"Action: \")"
   ]
  },
  {
   "cell_type": "code",
   "execution_count": 154,
   "id": "6bc55265-9277-439a-8c50-5bdc76ee4e6b",
   "metadata": {
    "tags": []
   },
   "outputs": [
    {
     "data": {
      "text/plain": [
       "{'action': 'Search', 'action_input': 'What is the weather in San Francisco'}"
      ]
     },
     "execution_count": 154,
     "metadata": {},
     "output_type": "execute_result"
    }
   ],
   "source": [
    "weather_agent._get_action_and_input(result)"
   ]
  },
  {
   "cell_type": "code",
   "execution_count": null,
   "id": "bc8181b3-fced-4ad5-96c4-dd4a1a062760",
   "metadata": {},
   "outputs": [],
   "source": []
  }
 ],
 "metadata": {
  "kernelspec": {
   "display_name": "Python 3 (ipykernel)",
   "language": "python",
   "name": "python3"
  },
  "language_info": {
   "codemirror_mode": {
    "name": "ipython",
    "version": 3
   },
   "file_extension": ".py",
   "mimetype": "text/x-python",
   "name": "python",
   "nbconvert_exporter": "python",
   "pygments_lexer": "ipython3",
   "version": "3.11.4"
  }
 },
 "nbformat": 4,
 "nbformat_minor": 5
}
