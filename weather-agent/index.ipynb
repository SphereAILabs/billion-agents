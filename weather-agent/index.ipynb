{
 "cells": [
  {
   "cell_type": "code",
   "execution_count": 10,
   "id": "efed6439-e480-4f12-9bee-5515d6bb045c",
   "metadata": {
    "tags": []
   },
   "outputs": [],
   "source": [
    "SYSTEM_MESSAGE = \"\"\"Objective: Answer questions I have about the weather\n",
    "\n",
    "###\n",
    "Actions:\n",
    "Search[query]: search query on Google\n",
    "ie. Search[what is the weather in NYC]\n",
    "\n",
    "Answer[result]: answer the question\n",
    "ie. Answer[the weather in NYC is 56F]\n",
    "\n",
    "###\n",
    "Use the following format:\n",
    "Question: <the input question you must answer>\n",
    "Thought: <reasoning on how you are going to accomplish the objective>\n",
    "Action: <what action you are going to take>\n",
    "Observation: <the result of the action>\n",
    "... (this Thought/Action/Observation can repeat N times)\n",
    "Thought: <I now know the final answer>\n",
    "Action: <the final answer to the original input question>\n",
    "\"\"\""
   ]
  },
  {
   "cell_type": "code",
   "execution_count": 11,
   "id": "e6bcc45e-e519-4a90-854f-3f52fb7e71cd",
   "metadata": {
    "tags": []
   },
   "outputs": [
    {
     "name": "stdout",
     "output_type": "stream",
     "text": [
      "Objective: Answer questions I have about the weather\n",
      "\n",
      "###\n",
      "Actions:\n",
      "Search[query]: search query on Google\n",
      "ie. Search[what is the weather in NYC]\n",
      "\n",
      "Answer[result]: answer the question\n",
      "ie. Answer[the weather in NYC is 56F]\n",
      "\n",
      "###\n",
      "Use the following format:\n",
      "Question: <the input question you must answer>\n",
      "Thought: <reasoning on how you are going to accomplish the objective>\n",
      "Action: <what action you are going to take>\n",
      "Observation: <the result of the action>\n",
      "... (this Thought/Action/Observation can repeat N times)\n",
      "Thought: <I now know the final answer>\n",
      "Action: <the final answer to the original input question>\n",
      "\n"
     ]
    }
   ],
   "source": [
    "print(SYSTEM_MESSAGE)"
   ]
  },
  {
   "cell_type": "code",
   "execution_count": null,
   "id": "ea667156-9a55-4958-99a6-a465acb0540d",
   "metadata": {},
   "outputs": [],
   "source": []
  }
 ],
 "metadata": {
  "kernelspec": {
   "display_name": "Python 3 (ipykernel)",
   "language": "python",
   "name": "python3"
  },
  "language_info": {
   "codemirror_mode": {
    "name": "ipython",
    "version": 3
   },
   "file_extension": ".py",
   "mimetype": "text/x-python",
   "name": "python",
   "nbconvert_exporter": "python",
   "pygments_lexer": "ipython3",
   "version": "3.11.4"
  }
 },
 "nbformat": 4,
 "nbformat_minor": 5
}
